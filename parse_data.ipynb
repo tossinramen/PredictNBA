{
 "cells": [
  {
   "cell_type": "code",
   "execution_count": 16,
   "id": "e2fa411e-f9a0-48cb-9a0e-2ddec506930e",
   "metadata": {},
   "outputs": [],
   "source": [
    "import os \n",
    "import pandas as pd \n",
    "from bs4 import BeautifulSoup\n",
    "from io import StringIO"
   ]
  },
  {
   "cell_type": "code",
   "execution_count": null,
   "id": "ad02aca7-6cba-473a-b78c-43b9acd14e80",
   "metadata": {},
   "outputs": [],
   "source": [
    "%pip install pandas"
   ]
  },
  {
   "cell_type": "code",
   "execution_count": null,
   "id": "ff77dc94-8725-43bf-8caf-fb8ccf3a2409",
   "metadata": {},
   "outputs": [],
   "source": [
    "SCORE_DIR = \"data/scores\""
   ]
  },
  {
   "cell_type": "code",
   "execution_count": null,
   "id": "e4972570-a2e8-474c-b567-7c4e98a5e237",
   "metadata": {},
   "outputs": [],
   "source": [
    "box_scores = os.listdir(SCORE_DIR)"
   ]
  },
  {
   "cell_type": "code",
   "execution_count": null,
   "id": "2ed2b1ee-bc68-418d-9bf1-cf28a8a193a0",
   "metadata": {},
   "outputs": [],
   "source": [
    "box_scores"
   ]
  },
  {
   "cell_type": "code",
   "execution_count": null,
   "id": "3b9abe4c-31c2-4f0c-bc51-90ff8cdd59ed",
   "metadata": {},
   "outputs": [],
   "source": [
    "len(box_scores)"
   ]
  },
  {
   "cell_type": "code",
   "execution_count": null,
   "id": "e7a27991-4ca6-47af-acc1-32c3a903e38a",
   "metadata": {},
   "outputs": [],
   "source": [
    "box_scores = [os.path.join(SCORE_DIR, f) for f in box_scores if f.endswith(\".html\")]"
   ]
  },
  {
   "cell_type": "code",
   "execution_count": null,
   "id": "8d94eca1-f5c2-43f5-b260-6e187137496d",
   "metadata": {},
   "outputs": [],
   "source": [
    "box_scores"
   ]
  },
  {
   "cell_type": "code",
   "execution_count": 181,
   "id": "c8445a1e-6cb0-4f2a-8b09-4504a06688ab",
   "metadata": {},
   "outputs": [],
   "source": [
    "\n",
    "def parse_html(box_score):\n",
    "    with open(box_score, encoding=\"utf-8\") as f:  \n",
    "        html = f.read()\n",
    "    soup = BeautifulSoup(html, \"html.parser\")  \n",
    "    [s.decompose() for s in soup.select(\"tr.over_header\")] \n",
    "    return soup\n",
    "    \n",
    "    \n",
    "    "
   ]
  },
  {
   "cell_type": "code",
   "execution_count": 182,
   "id": "df147686-857d-46eb-8745-12f53db7c7e0",
   "metadata": {},
   "outputs": [],
   "source": [
    "def read_line_score(soup): #use pandas to process html table as dataframe\n",
    "    html_string = str(soup)\n",
    "    html_buffer = StringIO(html_string)\n",
    "    line_score = pd.read_html(html_buffer, attrs={\"id\": \"line_score\"})[0]\n",
    "    cols = list(line_score.columns)\n",
    "    cols[0] = \"team\"\n",
    "    cols[-1] = \"total\"\n",
    "    line_score.columns = cols\n",
    "\n",
    "\n",
    "    line_score = line_score[[\"team\", \"total\"]]\n",
    "    \n",
    "    return line_score"
   ]
  },
  {
   "cell_type": "code",
   "execution_count": 183,
   "id": "0fa5f74a-81a2-4a65-9527-48df262575a9",
   "metadata": {},
   "outputs": [],
   "source": [
    "\n",
    "def read_stats(soup, team, stat):\n",
    "    \"\"\"Reads a stats table for a given team and stat type.\"\"\"\n",
    "    html_string = str(soup)\n",
    "    html_buffer = StringIO(html_string) \n",
    "    df = pd.read_html(html_buffer, attrs={\"id\": f\"box-{team}-game-{stat}\"}, index_col=0)[0]\n",
    "    df = df.apply(pd.to_numeric, errors=\"coerce\")\n",
    "    return df  "
   ]
  },
  {
   "cell_type": "code",
   "execution_count": 184,
   "id": "d32bf69f-2556-419a-9470-d58a44669e2f",
   "metadata": {},
   "outputs": [],
   "source": [
    "def read_season_info(soup):\n",
    "    nav = soup.select(\"#bottom_nav_container\")[0]\n",
    "    hrefs = [a[\"href\"] for a in nav.find_all(\"a\")]\n",
    "    season = os.path.basename(hrefs[1]).split(\"_\")[0]\n",
    "    return season"
   ]
  },
  {
   "cell_type": "code",
   "execution_count": null,
   "id": "9b1d91ea-2bcf-450a-8eb6-432570fbc782",
   "metadata": {},
   "outputs": [
    {
     "name": "stdout",
     "output_type": "stream",
     "text": [
      "100 / 9769\n"
     ]
    }
   ],
   "source": [
    "base_cols = None\n",
    "games = []\n",
    "box_score = box_scores[0]\n",
    "for box_score in box_scores:\n",
    "    soup = parse_html(box_score)\n",
    "    #html_string = str(soup)\n",
    "    #html_buffer = StringIO(html_string)\n",
    "    #df = pd.read_html(html_buffer, attrs={\"id\": \"line_score\"})[0]\n",
    "    #df\n",
    "    #line_score = pd.read_html(html_buffer, attrs={\"id\": \"line_score\"})[0]\n",
    "    #cols = list(line_score.columns)\n",
    "    #cols[0] = \"Team\"\n",
    "    #cols[-1] = \"Total\"\n",
    "    #line_score.columns = cols\n",
    "    \n",
    "    #line_score\n",
    "    line_score = read_line_score(soup)\n",
    "    \n",
    "    teams = list(line_score[\"team\"])\n",
    "    summaries = []\n",
    "    for team in teams:\n",
    "        basic = read_stats(soup, team, \"basic\")\n",
    "        advanced = read_stats(soup, team, \"advanced\")\n",
    "        totals = pd.concat([basic.iloc[-1,:], advanced.iloc[-1,:]])\n",
    "        totals.index = totals.index.str.lower()\n",
    "        maxes = pd.concat([basic.iloc[:-1,:].max(), advanced.iloc[:-1,:].max()])\n",
    "        maxes.index = maxes.index.str.lower() + \"_max\"\n",
    "        summary = pd.concat([totals,maxes])\n",
    "        if base_cols is None:\n",
    "            base_cols = list(summary.index.drop_duplicates(keep=\"first\"))\n",
    "            base_cols = [b for b in base_cols if \"bpm\" not in b]\n",
    "        summary = summary[base_cols]\n",
    "        summaries.append(summary)\n",
    "    summary = pd.concat(summaries, axis=1).T\n",
    "    game = pd.concat([summary, line_score], axis=1)\n",
    "    game[\"home\"] = [0,1]\n",
    "    game_opp = game.iloc[::-1].reset_index()\n",
    "    game_opp.columns += \"_opp\"\n",
    "    full_game = pd.concat([game, game_opp], axis=1)\n",
    "    full_game[\"seasons\"] = read_season_info(soup)\n",
    "    full_game[\"date\"] = os.path.basename(box_score)[:8]\n",
    "    full_game[\"date\"] = pd.to_datetime(full_game[\"date\"], format=\"%Y%m%d\")\n",
    "    full_game[\"won\"] = full_game[\"total\"] > full_game[\"total_opp\"]\n",
    "    games.append(full_game)\n",
    "    if len(games) % 100 == 0:\n",
    "        print(f\"{len(games)} / {len(box_scores)}\")"
   ]
  },
  {
   "cell_type": "code",
   "execution_count": null,
   "id": "0439cc2e-2236-4b89-a21f-172160e56d46",
   "metadata": {},
   "outputs": [],
   "source": [
    "#soup"
   ]
  },
  {
   "cell_type": "code",
   "execution_count": null,
   "id": "f744b01f-c618-4e55-8dbc-4e61e1d14ef4",
   "metadata": {},
   "outputs": [],
   "source": [
    "#teams"
   ]
  },
  {
   "cell_type": "code",
   "execution_count": null,
   "id": "4a62adbc-9f1d-447a-83f1-b8875875f24c",
   "metadata": {},
   "outputs": [],
   "source": [
    "#df"
   ]
  },
  {
   "cell_type": "code",
   "execution_count": null,
   "id": "8b2db492-795e-451a-8772-65c22708beed",
   "metadata": {},
   "outputs": [],
   "source": [
    "#advanced"
   ]
  },
  {
   "cell_type": "code",
   "execution_count": null,
   "id": "45a180dd-591c-4ff6-acbe-a57b15144586",
   "metadata": {},
   "outputs": [],
   "source": [
    "#basic"
   ]
  },
  {
   "cell_type": "code",
   "execution_count": null,
   "id": "91a01af7-8678-453f-9617-f3ac3daafbb1",
   "metadata": {},
   "outputs": [],
   "source": [
    "#total"
   ]
  },
  {
   "cell_type": "code",
   "execution_count": null,
   "id": "cc13ad86-5695-4c0c-9c5b-5d7cd4b66177",
   "metadata": {},
   "outputs": [],
   "source": [
    "#maxes"
   ]
  },
  {
   "cell_type": "code",
   "execution_count": null,
   "id": "62a46dcf-4943-4817-b5dc-3da16e4abada",
   "metadata": {},
   "outputs": [],
   "source": [
    "#totals"
   ]
  },
  {
   "cell_type": "code",
   "execution_count": null,
   "id": "ccb6f72e-3104-4553-8d44-eca2257d1e73",
   "metadata": {},
   "outputs": [],
   "source": [
    "#summary"
   ]
  },
  {
   "cell_type": "code",
   "execution_count": null,
   "id": "b8cc7ed8-f0e2-4984-b628-aa5e86de34f0",
   "metadata": {},
   "outputs": [],
   "source": [
    "#game"
   ]
  },
  {
   "cell_type": "code",
   "execution_count": null,
   "id": "e88fcf35-0906-4f10-9a0c-80c1b01d00c2",
   "metadata": {},
   "outputs": [],
   "source": [
    "#game_opp"
   ]
  },
  {
   "cell_type": "code",
   "execution_count": null,
   "id": "0c53e9b3-30d4-40bd-adda-cbd1bf2fc0fc",
   "metadata": {},
   "outputs": [],
   "source": [
    "#full_game"
   ]
  },
  {
   "cell_type": "code",
   "execution_count": null,
   "id": "55af8dcd-eeb1-43a5-929b-96b001ddec42",
   "metadata": {},
   "outputs": [],
   "source": [
    "#box_score"
   ]
  },
  {
   "cell_type": "code",
   "execution_count": null,
   "id": "45844016-0c57-427f-890a-9f70904368cc",
   "metadata": {},
   "outputs": [],
   "source": [
    "games_df = pd.concat(games, ignore_index=True)"
   ]
  },
  {
   "cell_type": "code",
   "execution_count": null,
   "id": "d3252ac1-063c-4a16-ae58-8c48cc2c02cc",
   "metadata": {},
   "outputs": [],
   "source": [
    "games_df"
   ]
  },
  {
   "cell_type": "code",
   "execution_count": null,
   "id": "f7125baa-ec15-4eec-9a78-10146abeaabf",
   "metadata": {},
   "outputs": [],
   "source": []
  }
 ],
 "metadata": {
  "kernelspec": {
   "display_name": "Python 3 (ipykernel)",
   "language": "python",
   "name": "python3"
  },
  "language_info": {
   "codemirror_mode": {
    "name": "ipython",
    "version": 3
   },
   "file_extension": ".py",
   "mimetype": "text/x-python",
   "name": "python",
   "nbconvert_exporter": "python",
   "pygments_lexer": "ipython3",
   "version": "3.12.4"
  }
 },
 "nbformat": 4,
 "nbformat_minor": 5
}

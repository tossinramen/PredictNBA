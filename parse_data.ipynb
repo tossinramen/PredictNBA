{
 "cells": [
  {
   "cell_type": "code",
   "execution_count": 1,
   "id": "e2fa411e-f9a0-48cb-9a0e-2ddec506930e",
   "metadata": {},
   "outputs": [],
   "source": [
    "import os \n",
    "import pandas as pd \n",
    "from bs4 import BeautifulSoup\n",
    "from io import StringIO"
   ]
  },
  {
   "cell_type": "code",
   "execution_count": 2,
   "id": "ff77dc94-8725-43bf-8caf-fb8ccf3a2409",
   "metadata": {},
   "outputs": [],
   "source": [
    "SCORE_DIR = \"data/scores\""
   ]
  },
  {
   "cell_type": "code",
   "execution_count": 3,
   "id": "e4972570-a2e8-474c-b567-7c4e98a5e237",
   "metadata": {},
   "outputs": [],
   "source": [
    "box_scores = os.listdir(SCORE_DIR)"
   ]
  },
  {
   "cell_type": "code",
   "execution_count": 4,
   "id": "3b9abe4c-31c2-4f0c-bc51-90ff8cdd59ed",
   "metadata": {},
   "outputs": [
    {
     "data": {
      "text/plain": [
       "10132"
      ]
     },
     "execution_count": 4,
     "metadata": {},
     "output_type": "execute_result"
    }
   ],
   "source": [
    "len(box_scores)"
   ]
  },
  {
   "cell_type": "code",
   "execution_count": 5,
   "id": "e7a27991-4ca6-47af-acc1-32c3a903e38a",
   "metadata": {},
   "outputs": [],
   "source": [
    "box_scores = [os.path.join(SCORE_DIR, f) for f in box_scores if f.endswith(\".html\")]"
   ]
  },
  {
   "cell_type": "code",
   "execution_count": 6,
   "id": "c8445a1e-6cb0-4f2a-8b09-4504a06688ab",
   "metadata": {},
   "outputs": [],
   "source": [
    "def parse_html(box_score):\n",
    "    with open(box_score, encoding=\"utf-8\") as f:  \n",
    "        html = f.read()\n",
    "    soup = BeautifulSoup(html, \"html.parser\")  \n",
    "    [s.decompose() for s in soup.select(\"tr.over_header\")] \n",
    "    return soup\n",
    "\n",
    "def read_line_score(soup):\n",
    "    \"\"\"Extract the line score table, handling missing or malformed HTML gracefully.\"\"\"\n",
    "    try:\n",
    "        html_string = str(soup)\n",
    "        html_buffer = StringIO(html_string)\n",
    "        tables = pd.read_html(html_buffer, attrs={\"id\": \"line_score\"})\n",
    "\n",
    "        if not tables:\n",
    "            print(\"Warning: 'line_score' table not found.\")\n",
    "            return None  \n",
    "        \n",
    "        line_score = tables[0]\n",
    "\n",
    "        cols = list(line_score.columns)\n",
    "        cols[0] = \"team\"\n",
    "        cols[-1] = \"total\"\n",
    "        line_score.columns = cols\n",
    "\n",
    "        line_score = line_score[[\"team\", \"total\"]]\n",
    "\n",
    "        return line_score\n",
    "    \n",
    "    except Exception as e:\n",
    "        print(f\"Error reading line score: {e}\")\n",
    "        return None  \n",
    "\n",
    "def read_stats(soup, team, stat):\n",
    "    \"\"\"Reads a stats table for a given team and stat type.\"\"\"\n",
    "    html_string = str(soup)\n",
    "    html_buffer = StringIO(html_string) \n",
    "    df = pd.read_html(html_buffer, attrs={\"id\": f\"box-{team}-game-{stat}\"}, index_col=0)[0]\n",
    "    df = df.apply(pd.to_numeric, errors=\"coerce\")\n",
    "    return df     \n",
    "def read_season_info(soup):\n",
    "    nav = soup.select(\"#bottom_nav_container\")[0]\n",
    "    hrefs = [a[\"href\"] for a in nav.find_all(\"a\")]\n",
    "    season = os.path.basename(hrefs[1]).split(\"_\")[0]\n",
    "    return season"
   ]
  },
  {
   "cell_type": "code",
   "execution_count": null,
   "id": "9b1d91ea-2bcf-450a-8eb6-432570fbc782",
   "metadata": {},
   "outputs": [
    {
     "name": "stdout",
     "output_type": "stream",
     "text": [
      "100 / 10131 processed\n",
      "200 / 10131 processed\n",
      "300 / 10131 processed\n",
      "400 / 10131 processed\n",
      "500 / 10131 processed\n",
      "600 / 10131 processed\n",
      "700 / 10131 processed\n",
      "800 / 10131 processed\n",
      "900 / 10131 processed\n",
      "1000 / 10131 processed\n",
      "1100 / 10131 processed\n",
      "Error reading line score: no text parsed from document (line 0)\n",
      "Skipping game 1100 (issue with line score)\n",
      "Error reading line score: no text parsed from document (line 0)\n",
      "Skipping game 1144 (issue with line score)\n",
      "Error reading line score: no text parsed from document (line 0)\n",
      "Skipping game 1145 (issue with line score)\n",
      "Error reading line score: no text parsed from document (line 0)\n",
      "Skipping game 1149 (issue with line score)\n",
      "1200 / 10131 processed\n",
      "1300 / 10131 processed\n",
      "1400 / 10131 processed\n",
      "1500 / 10131 processed\n",
      "1600 / 10131 processed\n",
      "1700 / 10131 processed\n",
      "1800 / 10131 processed\n",
      "1900 / 10131 processed\n",
      "2000 / 10131 processed\n",
      "2100 / 10131 processed\n",
      "2200 / 10131 processed\n",
      "2300 / 10131 processed\n",
      "2400 / 10131 processed\n",
      "2500 / 10131 processed\n",
      "2600 / 10131 processed\n",
      "2700 / 10131 processed\n",
      "2800 / 10131 processed\n",
      "2900 / 10131 processed\n",
      "3000 / 10131 processed\n",
      "3100 / 10131 processed\n",
      "3200 / 10131 processed\n",
      "3300 / 10131 processed\n",
      "3400 / 10131 processed\n",
      "3500 / 10131 processed\n",
      "3600 / 10131 processed\n",
      "3700 / 10131 processed\n",
      "3800 / 10131 processed\n",
      "3900 / 10131 processed\n",
      "4000 / 10131 processed\n",
      "4100 / 10131 processed\n",
      "4200 / 10131 processed\n",
      "4300 / 10131 processed\n",
      "4400 / 10131 processed\n",
      "4500 / 10131 processed\n",
      "4600 / 10131 processed\n"
     ]
    }
   ],
   "source": [
    "base_cols = None\n",
    "games = []\n",
    "box_score = box_scores[0]\n",
    "\n",
    "for idx, box_score in enumerate(box_scores):\n",
    "    soup = parse_html(box_score)\n",
    "    line_score = read_line_score(soup)\n",
    "    if line_score is None:\n",
    "        print(f\"Skipping game {idx} (issue with line score)\")\n",
    "        continue\n",
    "\n",
    "    teams = list(line_score[\"team\"])\n",
    "    summaries = []\n",
    "    \n",
    "    for team in teams:\n",
    "        try:\n",
    "            basic = read_stats(soup, team, \"basic\")\n",
    "            advanced = read_stats(soup, team, \"advanced\")\n",
    "\n",
    "            totals = pd.concat([basic.iloc[-1,:], advanced.iloc[-1,:]])\n",
    "            totals.index = totals.index.str.lower()\n",
    "\n",
    "            maxes = pd.concat([basic.iloc[:-1,:].max(), advanced.iloc[:-1,:].max()])\n",
    "            maxes.index = maxes.index.str.lower() + \"_max\"\n",
    "\n",
    "            summary = pd.concat([totals, maxes])\n",
    "\n",
    "            if base_cols is None:\n",
    "                base_cols = list(summary.index.drop_duplicates(keep=\"first\"))\n",
    "                base_cols = [b for b in base_cols if \"bpm\" not in b]\n",
    "\n",
    "            summary = summary[base_cols]\n",
    "            summaries.append(summary)\n",
    "        \n",
    "        except Exception as e:\n",
    "            print(f\"Skipping team {team} in game {idx} due to error: {e}\")\n",
    "            continue\n",
    "    if not summaries:\n",
    "        print(f\"Skipping game {idx} (no valid summaries)\")\n",
    "        continue\n",
    "\n",
    "    summary = pd.concat(summaries, axis=1).T\n",
    "    game = pd.concat([summary, line_score], axis=1)\n",
    "    game[\"home\"] = [0,1]\n",
    "    game_opp = game.iloc[::-1].reset_index()\n",
    "    game_opp.columns += \"_opp\"\n",
    "\n",
    "    full_game = pd.concat([game, game_opp], axis=1)\n",
    "    full_game[\"seasons\"] = read_season_info(soup)\n",
    "    full_game[\"date\"] = os.path.basename(box_score)[:8]\n",
    "    full_game[\"date\"] = pd.to_datetime(full_game[\"date\"], format=\"%Y%m%d\")\n",
    "    full_game[\"won\"] = full_game[\"total\"] > full_game[\"total_opp\"]\n",
    "\n",
    "    games.append(full_game)\n",
    "\n",
    "    if len(games) % 100 == 0:\n",
    "        print(f\"{len(games)} / {len(box_scores)} processed\")\n"
   ]
  },
  {
   "cell_type": "code",
   "execution_count": null,
   "id": "45844016-0c57-427f-890a-9f70904368cc",
   "metadata": {},
   "outputs": [],
   "source": [
    "games_df = pd.concat(games, ignore_index=True)"
   ]
  },
  {
   "cell_type": "code",
   "execution_count": null,
   "id": "d3252ac1-063c-4a16-ae58-8c48cc2c02cc",
   "metadata": {},
   "outputs": [],
   "source": [
    "games_df"
   ]
  },
  {
   "cell_type": "code",
   "execution_count": null,
   "id": "f7125baa-ec15-4eec-9a78-10146abeaabf",
   "metadata": {},
   "outputs": [],
   "source": [
    "games_df.to_csv(\"nba_games.csv\")"
   ]
  },
  {
   "cell_type": "code",
   "execution_count": null,
   "id": "62896a9e-48d5-43fa-b054-a978d9761383",
   "metadata": {},
   "outputs": [],
   "source": []
  }
 ],
 "metadata": {
  "kernelspec": {
   "display_name": "Python 3 (ipykernel)",
   "language": "python",
   "name": "python3"
  },
  "language_info": {
   "codemirror_mode": {
    "name": "ipython",
    "version": 3
   },
   "file_extension": ".py",
   "mimetype": "text/x-python",
   "name": "python",
   "nbconvert_exporter": "python",
   "pygments_lexer": "ipython3",
   "version": "3.12.4"
  }
 },
 "nbformat": 4,
 "nbformat_minor": 5
}

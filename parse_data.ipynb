{
 "cells": [
  {
   "cell_type": "code",
   "execution_count": 16,
   "id": "e2fa411e-f9a0-48cb-9a0e-2ddec506930e",
   "metadata": {},
   "outputs": [],
   "source": [
    "import os \n",
    "import pandas as pd \n",
    "from bs4 import BeautifulSoup\n",
    "from io import StringIO"
   ]
  },
  {
   "cell_type": "code",
   "execution_count": null,
   "id": "ad02aca7-6cba-473a-b78c-43b9acd14e80",
   "metadata": {},
   "outputs": [],
   "source": [
    "%pip install pandas"
   ]
  },
  {
   "cell_type": "code",
   "execution_count": null,
   "id": "ff77dc94-8725-43bf-8caf-fb8ccf3a2409",
   "metadata": {},
   "outputs": [],
   "source": [
    "SCORE_DIR = \"data/scores\""
   ]
  },
  {
   "cell_type": "code",
   "execution_count": null,
   "id": "e4972570-a2e8-474c-b567-7c4e98a5e237",
   "metadata": {},
   "outputs": [],
   "source": [
    "box_scores = os.listdir(SCORE_DIR)"
   ]
  },
  {
   "cell_type": "code",
   "execution_count": null,
   "id": "2ed2b1ee-bc68-418d-9bf1-cf28a8a193a0",
   "metadata": {},
   "outputs": [],
   "source": [
    "box_scores"
   ]
  },
  {
   "cell_type": "code",
   "execution_count": null,
   "id": "3b9abe4c-31c2-4f0c-bc51-90ff8cdd59ed",
   "metadata": {},
   "outputs": [],
   "source": [
    "len(box_scores)"
   ]
  },
  {
   "cell_type": "code",
   "execution_count": null,
   "id": "e7a27991-4ca6-47af-acc1-32c3a903e38a",
   "metadata": {},
   "outputs": [],
   "source": [
    "box_scores = [os.path.join(SCORE_DIR, f) for f in box_scores if f.endswith(\".html\")]"
   ]
  },
  {
   "cell_type": "code",
   "execution_count": null,
   "id": "8d94eca1-f5c2-43f5-b260-6e187137496d",
   "metadata": {},
   "outputs": [],
   "source": [
    "box_scores"
   ]
  },
  {
   "cell_type": "code",
   "execution_count": 10,
   "id": "c8445a1e-6cb0-4f2a-8b09-4504a06688ab",
   "metadata": {},
   "outputs": [],
   "source": [
    "def parse_html(box_score):\n",
    "    with open(box_score) as f:\n",
    "        html = f.read()\n",
    "    soup = BeautifulSoup(html)\n",
    "    [s.decompose() for s in soup.select(\"tr.over_header\")]\n",
    "    [s.decompose() for s in soup.select(\"tr.thead\")]\n",
    "    return soup \n",
    "    \n",
    "    \n",
    "    "
   ]
  },
  {
   "cell_type": "code",
   "execution_count": null,
   "id": "df147686-857d-46eb-8745-12f53db7c7e0",
   "metadata": {},
   "outputs": [],
   "source": [
    "def read_line_score(soup): #use pandas to process html table as dataframe\n",
    "    line_score = pd.read_html(str(soup), attrs={\"id\":\"line_score\"})[0]\n",
    "    cols = list(line_score.columns)\n",
    "    cols[0] = \"team\"\n",
    "    cols[-1] = \"total\"\n",
    "    \n",
    "    "
   ]
  },
  {
   "cell_type": "code",
   "execution_count": 17,
   "id": "9b1d91ea-2bcf-450a-8eb6-432570fbc782",
   "metadata": {},
   "outputs": [
    {
     "data": {
      "text/html": [
       "<div>\n",
       "<style scoped>\n",
       "    .dataframe tbody tr th:only-of-type {\n",
       "        vertical-align: middle;\n",
       "    }\n",
       "\n",
       "    .dataframe tbody tr th {\n",
       "        vertical-align: top;\n",
       "    }\n",
       "\n",
       "    .dataframe thead th {\n",
       "        text-align: right;\n",
       "    }\n",
       "</style>\n",
       "<table border=\"1\" class=\"dataframe\">\n",
       "  <thead>\n",
       "    <tr style=\"text-align: right;\">\n",
       "      <th></th>\n",
       "      <th>Unnamed: 0</th>\n",
       "      <th>1</th>\n",
       "      <th>2</th>\n",
       "      <th>3</th>\n",
       "      <th>4</th>\n",
       "      <th>T</th>\n",
       "    </tr>\n",
       "  </thead>\n",
       "  <tbody>\n",
       "    <tr>\n",
       "      <th>0</th>\n",
       "      <td>BOS</td>\n",
       "      <td>19</td>\n",
       "      <td>19</td>\n",
       "      <td>33</td>\n",
       "      <td>28</td>\n",
       "      <td>99</td>\n",
       "    </tr>\n",
       "    <tr>\n",
       "      <th>1</th>\n",
       "      <td>CLE</td>\n",
       "      <td>29</td>\n",
       "      <td>25</td>\n",
       "      <td>18</td>\n",
       "      <td>30</td>\n",
       "      <td>102</td>\n",
       "    </tr>\n",
       "  </tbody>\n",
       "</table>\n",
       "</div>"
      ],
      "text/plain": [
       "  Unnamed: 0   1   2   3   4    T\n",
       "0        BOS  19  19  33  28   99\n",
       "1        CLE  29  25  18  30  102"
      ]
     },
     "execution_count": 17,
     "metadata": {},
     "output_type": "execute_result"
    }
   ],
   "source": [
    "box_score = box_scores[0]\n",
    "soup = parse_html(box_score)\n",
    "html_string = str(soup)\n",
    "html_buffer = StringIO(html_string)\n",
    "df = pd.read_html(html_buffer, attrs={\"id\": \"line_score\"})[0]\n",
    "df"
   ]
  },
  {
   "cell_type": "code",
   "execution_count": null,
   "id": "0439cc2e-2236-4b89-a21f-172160e56d46",
   "metadata": {},
   "outputs": [],
   "source": [
    "#soup"
   ]
  },
  {
   "cell_type": "code",
   "execution_count": null,
   "id": "f744b01f-c618-4e55-8dbc-4e61e1d14ef4",
   "metadata": {},
   "outputs": [],
   "source": []
  }
 ],
 "metadata": {
  "kernelspec": {
   "display_name": "Python 3 (ipykernel)",
   "language": "python",
   "name": "python3"
  },
  "language_info": {
   "codemirror_mode": {
    "name": "ipython",
    "version": 3
   },
   "file_extension": ".py",
   "mimetype": "text/x-python",
   "name": "python",
   "nbconvert_exporter": "python",
   "pygments_lexer": "ipython3",
   "version": "3.12.4"
  }
 },
 "nbformat": 4,
 "nbformat_minor": 5
}

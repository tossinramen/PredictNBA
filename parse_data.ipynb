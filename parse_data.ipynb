{
 "cells": [
  {
   "cell_type": "code",
   "execution_count": 16,
   "id": "e2fa411e-f9a0-48cb-9a0e-2ddec506930e",
   "metadata": {},
   "outputs": [],
   "source": [
    "import os \n",
    "import pandas as pd \n",
    "from bs4 import BeautifulSoup\n",
    "from io import StringIO"
   ]
  },
  {
   "cell_type": "code",
   "execution_count": null,
   "id": "ad02aca7-6cba-473a-b78c-43b9acd14e80",
   "metadata": {},
   "outputs": [],
   "source": [
    "%pip install pandas"
   ]
  },
  {
   "cell_type": "code",
   "execution_count": null,
   "id": "ff77dc94-8725-43bf-8caf-fb8ccf3a2409",
   "metadata": {},
   "outputs": [],
   "source": [
    "SCORE_DIR = \"data/scores\""
   ]
  },
  {
   "cell_type": "code",
   "execution_count": null,
   "id": "e4972570-a2e8-474c-b567-7c4e98a5e237",
   "metadata": {},
   "outputs": [],
   "source": [
    "box_scores = os.listdir(SCORE_DIR)"
   ]
  },
  {
   "cell_type": "code",
   "execution_count": null,
   "id": "2ed2b1ee-bc68-418d-9bf1-cf28a8a193a0",
   "metadata": {},
   "outputs": [],
   "source": [
    "box_scores"
   ]
  },
  {
   "cell_type": "code",
   "execution_count": null,
   "id": "3b9abe4c-31c2-4f0c-bc51-90ff8cdd59ed",
   "metadata": {},
   "outputs": [],
   "source": [
    "len(box_scores)"
   ]
  },
  {
   "cell_type": "code",
   "execution_count": null,
   "id": "e7a27991-4ca6-47af-acc1-32c3a903e38a",
   "metadata": {},
   "outputs": [],
   "source": [
    "box_scores = [os.path.join(SCORE_DIR, f) for f in box_scores if f.endswith(\".html\")]"
   ]
  },
  {
   "cell_type": "code",
   "execution_count": null,
   "id": "8d94eca1-f5c2-43f5-b260-6e187137496d",
   "metadata": {},
   "outputs": [],
   "source": [
    "box_scores"
   ]
  },
  {
   "cell_type": "code",
   "execution_count": 10,
   "id": "c8445a1e-6cb0-4f2a-8b09-4504a06688ab",
   "metadata": {},
   "outputs": [],
   "source": [
    "def parse_html(box_score):\n",
    "    with open(box_score) as f:\n",
    "        html = f.read()\n",
    "    soup = BeautifulSoup(html)\n",
    "    [s.decompose() for s in soup.select(\"tr.over_header\")]\n",
    "    [s.decompose() for s in soup.select(\"tr.thead\")]\n",
    "    return soup \n",
    "    \n",
    "    \n",
    "    "
   ]
  },
  {
   "cell_type": "code",
   "execution_count": 32,
   "id": "df147686-857d-46eb-8745-12f53db7c7e0",
   "metadata": {},
   "outputs": [],
   "source": [
    "def read_line_score(soup): #use pandas to process html table as dataframe\n",
    "    html_string = str(soup)\n",
    "    html_buffer = StringIO(html_string)\n",
    "    line_score = pd.read_html(html_buffer, attrs={\"id\": \"line_score\"})[0]\n",
    "    cols = list(line_score.columns)\n",
    "    cols[0] = \"team\"\n",
    "    cols[-1] = \"total\"\n",
    "    line_score.columns = cols\n",
    "\n",
    "\n",
    "    line_score = line_score[[\"team\", \"total\"]]\n",
    "    \n",
    "    return line_score"
   ]
  },
  {
   "cell_type": "code",
   "execution_count": 36,
   "id": "0fa5f74a-81a2-4a65-9527-48df262575a9",
   "metadata": {},
   "outputs": [],
   "source": [
    "\n",
    "def read_stats(soup, team, stat):\n",
    "    \"\"\"Reads a stats table for a given team and stat type.\"\"\"\n",
    "    html_string = str(soup)\n",
    "    html_buffer = StringIO(html_string) \n",
    "    df = pd.read_html(html_buffer, attrs={\"id\": f\"box-{team}-game-{stat}\"}, index_col=0)[0]\n",
    "    df = df.apply(pd.to_numeric, errors=\"coerce\")\n",
    "    return df  "
   ]
  },
  {
   "cell_type": "code",
   "execution_count": 99,
   "id": "9b1d91ea-2bcf-450a-8eb6-432570fbc782",
   "metadata": {},
   "outputs": [],
   "source": [
    "base_cols = None\n",
    "box_score = box_scores[0]\n",
    "#for box_score in box_scores:\n",
    "soup = parse_html(box_score)\n",
    "#html_string = str(soup)\n",
    "#html_buffer = StringIO(html_string)\n",
    "#df = pd.read_html(html_buffer, attrs={\"id\": \"line_score\"})[0]\n",
    "#df\n",
    "#line_score = pd.read_html(html_buffer, attrs={\"id\": \"line_score\"})[0]\n",
    "#cols = list(line_score.columns)\n",
    "#cols[0] = \"Team\"\n",
    "#cols[-1] = \"Total\"\n",
    "#line_score.columns = cols\n",
    "\n",
    "#line_score\n",
    "line_score = read_line_score(soup)\n",
    "\n",
    "teams = list(line_score[\"team\"])\n",
    "summaries = []\n",
    "for team in teams:\n",
    "    basic = read_stats(soup, team, \"basic\")\n",
    "    advanced = read_stats(soup, team, \"advanced\")\n",
    "    totals = pd.concat([basic.iloc[-1,:], advanced.iloc[-1,:]])\n",
    "    totals.index = totals.index.str.lower()\n",
    "    maxes = pd.concat([basic.iloc[:-1,:].max(), advanced.iloc[:-1,:].max()])\n",
    "    maxes.index = maxes.index.str.lower() + \"_max\"\n",
    "    summary = pd.concat([totals,maxes])\n",
    "    if base_cols is None:\n",
    "        base_cols = list(summary.index.drop_duplicates(keep=\"first\"))\n",
    "        base_cols = [b for b in base_cols if \"bpm\" not in b]\n",
    "    summary = summary[base_cols]\n",
    "    summaries.append(summary)\n",
    "summary = pd.concat(summaries, axis=1).T\n",
    "game = pd.concat([summary, line_score], axis=1)\n",
    "game[\"home\"] = [0,1]"
   ]
  },
  {
   "cell_type": "code",
   "execution_count": 90,
   "id": "0439cc2e-2236-4b89-a21f-172160e56d46",
   "metadata": {},
   "outputs": [],
   "source": [
    "#soup"
   ]
  },
  {
   "cell_type": "code",
   "execution_count": 91,
   "id": "f744b01f-c618-4e55-8dbc-4e61e1d14ef4",
   "metadata": {},
   "outputs": [],
   "source": [
    "#teams"
   ]
  },
  {
   "cell_type": "code",
   "execution_count": 92,
   "id": "4a62adbc-9f1d-447a-83f1-b8875875f24c",
   "metadata": {},
   "outputs": [],
   "source": [
    "#df"
   ]
  },
  {
   "cell_type": "code",
   "execution_count": 93,
   "id": "8b2db492-795e-451a-8772-65c22708beed",
   "metadata": {},
   "outputs": [],
   "source": [
    "#advanced"
   ]
  },
  {
   "cell_type": "code",
   "execution_count": 94,
   "id": "45a180dd-591c-4ff6-acbe-a57b15144586",
   "metadata": {},
   "outputs": [],
   "source": [
    "#basic"
   ]
  },
  {
   "cell_type": "code",
   "execution_count": 95,
   "id": "91a01af7-8678-453f-9617-f3ac3daafbb1",
   "metadata": {},
   "outputs": [],
   "source": [
    "#total"
   ]
  },
  {
   "cell_type": "code",
   "execution_count": 96,
   "id": "cc13ad86-5695-4c0c-9c5b-5d7cd4b66177",
   "metadata": {},
   "outputs": [],
   "source": [
    "#maxes"
   ]
  },
  {
   "cell_type": "code",
   "execution_count": 97,
   "id": "62a46dcf-4943-4817-b5dc-3da16e4abada",
   "metadata": {},
   "outputs": [],
   "source": [
    "#totals"
   ]
  },
  {
   "cell_type": "code",
   "execution_count": 100,
   "id": "ccb6f72e-3104-4553-8d44-eca2257d1e73",
   "metadata": {},
   "outputs": [],
   "source": [
    "#summary"
   ]
  },
  {
   "cell_type": "code",
   "execution_count": 101,
   "id": "b8cc7ed8-f0e2-4984-b628-aa5e86de34f0",
   "metadata": {},
   "outputs": [
    {
     "data": {
      "text/html": [
       "<div>\n",
       "<style scoped>\n",
       "    .dataframe tbody tr th:only-of-type {\n",
       "        vertical-align: middle;\n",
       "    }\n",
       "\n",
       "    .dataframe tbody tr th {\n",
       "        vertical-align: top;\n",
       "    }\n",
       "\n",
       "    .dataframe thead th {\n",
       "        text-align: right;\n",
       "    }\n",
       "</style>\n",
       "<table border=\"1\" class=\"dataframe\">\n",
       "  <thead>\n",
       "    <tr style=\"text-align: right;\">\n",
       "      <th></th>\n",
       "      <th>mp</th>\n",
       "      <th>mp</th>\n",
       "      <th>fg</th>\n",
       "      <th>fga</th>\n",
       "      <th>fg%</th>\n",
       "      <th>3p</th>\n",
       "      <th>3pa</th>\n",
       "      <th>3p%</th>\n",
       "      <th>ft</th>\n",
       "      <th>fta</th>\n",
       "      <th>...</th>\n",
       "      <th>trb%_max</th>\n",
       "      <th>ast%_max</th>\n",
       "      <th>stl%_max</th>\n",
       "      <th>blk%_max</th>\n",
       "      <th>tov%_max</th>\n",
       "      <th>usg%_max</th>\n",
       "      <th>ortg_max</th>\n",
       "      <th>drtg_max</th>\n",
       "      <th>team</th>\n",
       "      <th>total</th>\n",
       "    </tr>\n",
       "  </thead>\n",
       "  <tbody>\n",
       "    <tr>\n",
       "      <th>0</th>\n",
       "      <td>240.0</td>\n",
       "      <td>240.0</td>\n",
       "      <td>36.0</td>\n",
       "      <td>88.0</td>\n",
       "      <td>0.409</td>\n",
       "      <td>8.0</td>\n",
       "      <td>32.0</td>\n",
       "      <td>0.250</td>\n",
       "      <td>19.0</td>\n",
       "      <td>25.0</td>\n",
       "      <td>...</td>\n",
       "      <td>13.7</td>\n",
       "      <td>46.5</td>\n",
       "      <td>9.9</td>\n",
       "      <td>4.5</td>\n",
       "      <td>34.7</td>\n",
       "      <td>29.9</td>\n",
       "      <td>129.0</td>\n",
       "      <td>112.0</td>\n",
       "      <td>BOS</td>\n",
       "      <td>99</td>\n",
       "    </tr>\n",
       "    <tr>\n",
       "      <th>1</th>\n",
       "      <td>240.0</td>\n",
       "      <td>240.0</td>\n",
       "      <td>38.0</td>\n",
       "      <td>83.0</td>\n",
       "      <td>0.458</td>\n",
       "      <td>5.0</td>\n",
       "      <td>22.0</td>\n",
       "      <td>0.227</td>\n",
       "      <td>21.0</td>\n",
       "      <td>25.0</td>\n",
       "      <td>...</td>\n",
       "      <td>19.4</td>\n",
       "      <td>43.7</td>\n",
       "      <td>3.8</td>\n",
       "      <td>6.0</td>\n",
       "      <td>31.6</td>\n",
       "      <td>27.3</td>\n",
       "      <td>138.0</td>\n",
       "      <td>107.0</td>\n",
       "      <td>CLE</td>\n",
       "      <td>102</td>\n",
       "    </tr>\n",
       "  </tbody>\n",
       "</table>\n",
       "<p>2 rows × 74 columns</p>\n",
       "</div>"
      ],
      "text/plain": [
       "      mp     mp    fg   fga    fg%   3p   3pa    3p%    ft   fta  ...  \\\n",
       "0  240.0  240.0  36.0  88.0  0.409  8.0  32.0  0.250  19.0  25.0  ...   \n",
       "1  240.0  240.0  38.0  83.0  0.458  5.0  22.0  0.227  21.0  25.0  ...   \n",
       "\n",
       "   trb%_max  ast%_max  stl%_max  blk%_max  tov%_max  usg%_max  ortg_max  \\\n",
       "0      13.7      46.5       9.9       4.5      34.7      29.9     129.0   \n",
       "1      19.4      43.7       3.8       6.0      31.6      27.3     138.0   \n",
       "\n",
       "   drtg_max  team  total  \n",
       "0     112.0   BOS     99  \n",
       "1     107.0   CLE    102  \n",
       "\n",
       "[2 rows x 74 columns]"
      ]
     },
     "execution_count": 101,
     "metadata": {},
     "output_type": "execute_result"
    }
   ],
   "source": [
    "game"
   ]
  },
  {
   "cell_type": "code",
   "execution_count": null,
   "id": "e88fcf35-0906-4f10-9a0c-80c1b01d00c2",
   "metadata": {},
   "outputs": [],
   "source": []
  }
 ],
 "metadata": {
  "kernelspec": {
   "display_name": "Python 3 (ipykernel)",
   "language": "python",
   "name": "python3"
  },
  "language_info": {
   "codemirror_mode": {
    "name": "ipython",
    "version": 3
   },
   "file_extension": ".py",
   "mimetype": "text/x-python",
   "name": "python",
   "nbconvert_exporter": "python",
   "pygments_lexer": "ipython3",
   "version": "3.12.4"
  }
 },
 "nbformat": 4,
 "nbformat_minor": 5
}

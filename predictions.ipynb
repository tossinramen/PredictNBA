{
 "cells": [
  {
   "cell_type": "code",
   "execution_count": 1,
   "id": "39db88bc-d1d3-4089-b575-c353270231fd",
   "metadata": {},
   "outputs": [],
   "source": [
    "!python -m venv my_env\n"
   ]
  },
  {
   "cell_type": "code",
   "execution_count": 2,
   "id": "32872ba5-f543-4354-91ac-c5c737f104e4",
   "metadata": {},
   "outputs": [],
   "source": [
    "!my_env\\Scripts\\activate\n"
   ]
  },
  {
   "cell_type": "code",
   "execution_count": null,
   "id": "6e47e7fa-4f77-40ee-b0f3-12bf7774d570",
   "metadata": {},
   "outputs": [],
   "source": [
    "!pip install pandas==1.5.0\n"
   ]
  },
  {
   "cell_type": "code",
   "execution_count": null,
   "id": "f894c1f7-12a3-460f-a7ac-2fcb6011dc20",
   "metadata": {},
   "outputs": [],
   "source": [
    "!pip install ipykernel\n",
    "!python -m ipykernel install --user --name=my_env --display-name \"Python (my_env)\"\n"
   ]
  },
  {
   "cell_type": "code",
   "execution_count": null,
   "id": "6ccbabe0-0919-4e10-bc96-4c93155da78b",
   "metadata": {},
   "outputs": [],
   "source": [
    "import pandas as pd\n",
    "print(pd.__version__)\n"
   ]
  },
  {
   "cell_type": "code",
   "execution_count": null,
   "id": "0c86c4ab-39be-4aa4-8f67-0fad4ebda84f",
   "metadata": {},
   "outputs": [],
   "source": []
  }
 ],
 "metadata": {
  "kernelspec": {
   "display_name": "Python 3 (ipykernel)",
   "language": "python",
   "name": "python3"
  },
  "language_info": {
   "codemirror_mode": {
    "name": "ipython",
    "version": 3
   },
   "file_extension": ".py",
   "mimetype": "text/x-python",
   "name": "python",
   "nbconvert_exporter": "python",
   "pygments_lexer": "ipython3",
   "version": "3.12.4"
  }
 },
 "nbformat": 4,
 "nbformat_minor": 5
}

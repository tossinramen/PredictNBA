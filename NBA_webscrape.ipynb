{
 "cells": [
  {
   "cell_type": "code",
   "execution_count": 2,
   "id": "0c0cd2b7-3c58-45f1-ac4b-82ac42e46eed",
   "metadata": {},
   "outputs": [],
   "source": [
    "import os\n",
    "from bs4 import BeautifulSoup\n",
    "from playwright.async_api import async_playwright, TimeoutError as PlaywrightTimeout\n",
    "import time"
   ]
  },
  {
   "cell_type": "code",
   "execution_count": 3,
   "id": "c5f47d0c-5fe1-4283-99f6-c9242c4cef6a",
   "metadata": {},
   "outputs": [
    {
     "name": "stdout",
     "output_type": "stream",
     "text": [
      "Requirement already satisfied: beautifulsoup4 in c:\\users\\tahsi\\downloads\\anaconda3\\lib\\site-packages (4.12.3)\n",
      "Requirement already satisfied: soupsieve>1.2 in c:\\users\\tahsi\\downloads\\anaconda3\\lib\\site-packages (from beautifulsoup4) (2.5)\n",
      "Note: you may need to restart the kernel to use updated packages.\n"
     ]
    }
   ],
   "source": [
    "%pip install beautifulsoup4"
   ]
  },
  {
   "cell_type": "code",
   "execution_count": 4,
   "id": "6fdebd9a-745e-428c-8bb9-2326018f048a",
   "metadata": {},
   "outputs": [
    {
     "name": "stdout",
     "output_type": "stream",
     "text": [
      "Requirement already satisfied: playwright in c:\\users\\tahsi\\downloads\\anaconda3\\lib\\site-packages (1.50.0)\n",
      "Requirement already satisfied: pyee<13,>=12 in c:\\users\\tahsi\\downloads\\anaconda3\\lib\\site-packages (from playwright) (12.1.1)\n",
      "Requirement already satisfied: greenlet<4.0.0,>=3.1.1 in c:\\users\\tahsi\\downloads\\anaconda3\\lib\\site-packages (from playwright) (3.1.1)\n",
      "Requirement already satisfied: typing-extensions in c:\\users\\tahsi\\downloads\\anaconda3\\lib\\site-packages (from pyee<13,>=12->playwright) (4.12.2)\n",
      "Note: you may need to restart the kernel to use updated packages.\n"
     ]
    }
   ],
   "source": [
    "%pip install playwright"
   ]
  },
  {
   "cell_type": "code",
   "execution_count": 5,
   "id": "84ced099-08d5-4b13-a0a7-6952fd648bae",
   "metadata": {},
   "outputs": [],
   "source": [
    "!playwright install"
   ]
  },
  {
   "cell_type": "code",
   "execution_count": 6,
   "id": "48ec59d4-039b-44fb-b43f-212755bea1e3",
   "metadata": {},
   "outputs": [],
   "source": [
    "SEASONS = list(range(2021, 2026))"
   ]
  },
  {
   "cell_type": "code",
   "execution_count": 7,
   "id": "4c7a1fee-4e7a-4ccf-9abf-3af4387a9e2f",
   "metadata": {},
   "outputs": [
    {
     "data": {
      "text/plain": [
       "[2021, 2022, 2023, 2024, 2025]"
      ]
     },
     "execution_count": 7,
     "metadata": {},
     "output_type": "execute_result"
    }
   ],
   "source": [
    "SEASONS"
   ]
  },
  {
   "cell_type": "code",
   "execution_count": 8,
   "id": "f8fe1b62-70db-4f0b-9012-5ead25666512",
   "metadata": {},
   "outputs": [],
   "source": [
    "DATA_DIR = \"data\"\n",
    "STANDINGS_DIR = os.path.join(DATA_DIR, \"standings\")\n",
    "SCORES_DIR = os.path.join(DATA_DIR, \"scores\")"
   ]
  },
  {
   "cell_type": "code",
   "execution_count": 9,
   "id": "166056e5-89d0-4c45-8799-213a7981d4ab",
   "metadata": {},
   "outputs": [],
   "source": [
    "async def get_html(url, selector, sleep=5, retries=3):\n",
    "    html = None\n",
    "    for i in range(1, retries+1):\n",
    "        time.sleep(sleep * i) # so we don't get banned for trying to scrape too fast\n",
    "\n",
    "        try: \n",
    "            async with async_playwright() as p:\n",
    "                browser = await p.chromium.launch()\n",
    "                page = await browser.new_page()\n",
    "                await page.goto(url)\n",
    "                print(await page.title())\n",
    "                html = await page.inner_html(selector) #only select pieces of html\n",
    "        except PlaywrightTimeout:\n",
    "            print(f\"Timeout error on {url}\")\n",
    "            continue #goes back to beginning of loop @ for statement\n",
    "        else:\n",
    "            break #successful scrape = break the loop, not retry\n",
    "    return html\n",
    "\n",
    "\n"
   ]
  },
  {
   "cell_type": "code",
   "execution_count": 10,
   "id": "3476ab4e-7f02-4ac2-a551-6f1d692af8ad",
   "metadata": {},
   "outputs": [],
   "source": [
    "async def scrape_season(season):\n",
    "    url = f\"https://www.basketball-reference.com/leagues/NBA_{season}_games.html\"\n",
    "    html = await get_html(url, \"#content .filter\")\n",
    "\n",
    "    soup = BeautifulSoup(html)\n",
    "    links = soup.find_all(\"a\")\n",
    "    href = [l[\"href\"] for l in links]\n",
    "    standings_pages = [f\"https://basketball-reference.com{l}\" for l in href]\n",
    "\n",
    "    for url in standings_pages:\n",
    "        save_path = os.path.join(STANDINGS_DIR, url.split(\"/\")[-1])\n",
    "        if os.path.exists(save_path):\n",
    "            continue\n",
    "        html = await get_html(url, \"#all_schedule\")\n",
    "        with open(save_path, \"w+\") as f: \n",
    "            f.write(html)"
   ]
  },
  {
   "cell_type": "code",
   "execution_count": 11,
   "id": "a7d0ba7b-2ea6-4316-aa59-a0111a375ee9",
   "metadata": {},
   "outputs": [
    {
     "name": "stdout",
     "output_type": "stream",
     "text": [
      "2020-21 NBA Schedule | Basketball-Reference.com\n",
      "2021-22 NBA Schedule | Basketball-Reference.com\n",
      "2022-23 NBA Schedule | Basketball-Reference.com\n",
      "2023-24 NBA Schedule | Basketball-Reference.com\n",
      "2024-25 NBA Schedule | Basketball-Reference.com\n",
      "2024-25 NBA Schedule | Basketball-Reference.com\n",
      "2024-25 NBA Schedule | Basketball-Reference.com\n",
      "2024-25 NBA Schedule | Basketball-Reference.com\n",
      "2024-25 NBA Schedule | Basketball-Reference.com\n",
      "2024-25 NBA Schedule | Basketball-Reference.com\n",
      "Timeout error on https://basketball-reference.com/leagues/NBA_2025_games-march.html\n",
      "2024-25 NBA Schedule | Basketball-Reference.com\n",
      "2024-25 NBA Schedule | Basketball-Reference.com\n"
     ]
    }
   ],
   "source": [
    "for season in SEASONS:\n",
    "    await scrape_season(season)\n",
    "    "
   ]
  },
  {
   "cell_type": "code",
   "execution_count": 12,
   "id": "fd64f841-89c9-4a16-8340-f650ab98ad24",
   "metadata": {},
   "outputs": [],
   "source": [
    "#parsing boxscore links \n",
    "standings_files = os.listdir(STANDINGS_DIR)"
   ]
  },
  {
   "cell_type": "code",
   "execution_count": 13,
   "id": "3d96890e-f6fc-4a62-a9de-78ae6b0a7203",
   "metadata": {},
   "outputs": [
    {
     "data": {
      "text/plain": [
       "['NBA_2018_games-april.html',\n",
       " 'NBA_2018_games-december.html',\n",
       " 'NBA_2018_games-february.html',\n",
       " 'NBA_2018_games-january.html',\n",
       " 'NBA_2018_games-june.html',\n",
       " 'NBA_2018_games-march.html',\n",
       " 'NBA_2018_games-may.html',\n",
       " 'NBA_2018_games-november.html',\n",
       " 'NBA_2018_games-october.html',\n",
       " 'NBA_2019_games-april.html',\n",
       " 'NBA_2019_games-december.html',\n",
       " 'NBA_2019_games-february.html',\n",
       " 'NBA_2019_games-january.html',\n",
       " 'NBA_2019_games-june.html',\n",
       " 'NBA_2019_games-march.html',\n",
       " 'NBA_2019_games-may.html',\n",
       " 'NBA_2019_games-november.html',\n",
       " 'NBA_2019_games-october.html',\n",
       " 'NBA_2020_games-august.html',\n",
       " 'NBA_2020_games-december.html',\n",
       " 'NBA_2020_games-february.html',\n",
       " 'NBA_2020_games-january.html',\n",
       " 'NBA_2020_games-july.html',\n",
       " 'NBA_2020_games-march.html',\n",
       " 'NBA_2020_games-november.html',\n",
       " 'NBA_2020_games-october-2019.html',\n",
       " 'NBA_2020_games-october-2020.html',\n",
       " 'NBA_2020_games-september.html',\n",
       " 'NBA_2021_games-april.html',\n",
       " 'NBA_2021_games-december.html',\n",
       " 'NBA_2021_games-february.html',\n",
       " 'NBA_2021_games-january.html',\n",
       " 'NBA_2021_games-july.html',\n",
       " 'NBA_2021_games-june.html',\n",
       " 'NBA_2021_games-march.html',\n",
       " 'NBA_2021_games-may.html',\n",
       " 'NBA_2022_games-april.html',\n",
       " 'NBA_2022_games-december.html',\n",
       " 'NBA_2022_games-february.html',\n",
       " 'NBA_2022_games-january.html',\n",
       " 'NBA_2022_games-june.html',\n",
       " 'NBA_2022_games-march.html',\n",
       " 'NBA_2022_games-may.html',\n",
       " 'NBA_2022_games-november.html',\n",
       " 'NBA_2022_games-october.html',\n",
       " 'NBA_2023_games-april.html',\n",
       " 'NBA_2023_games-december.html',\n",
       " 'NBA_2023_games-february.html',\n",
       " 'NBA_2023_games-january.html',\n",
       " 'NBA_2023_games-june.html',\n",
       " 'NBA_2023_games-march.html',\n",
       " 'NBA_2023_games-may.html',\n",
       " 'NBA_2023_games-november.html',\n",
       " 'NBA_2023_games-october.html',\n",
       " 'NBA_2024_games-april.html',\n",
       " 'NBA_2024_games-december.html',\n",
       " 'NBA_2024_games-february.html',\n",
       " 'NBA_2024_games-january.html',\n",
       " 'NBA_2024_games-june.html',\n",
       " 'NBA_2024_games-march.html',\n",
       " 'NBA_2024_games-may.html',\n",
       " 'NBA_2024_games-november.html',\n",
       " 'NBA_2024_games-october.html',\n",
       " 'NBA_2025_games-april.html',\n",
       " 'NBA_2025_games-december.html',\n",
       " 'NBA_2025_games-february.html',\n",
       " 'NBA_2025_games-january.html',\n",
       " 'NBA_2025_games-march.html',\n",
       " 'NBA_2025_games-november.html',\n",
       " 'NBA_2025_games-october.html']"
      ]
     },
     "execution_count": 13,
     "metadata": {},
     "output_type": "execute_result"
    }
   ],
   "source": [
    "standings_files"
   ]
  },
  {
   "cell_type": "code",
   "execution_count": 14,
   "id": "37095880-8179-43c0-afaa-fa53cf942205",
   "metadata": {},
   "outputs": [],
   "source": [
    "async def scrape_game(standings_file):\n",
    "    with open(standings_file, 'r') as f:\n",
    "        html = f.read()\n",
    "    soup = BeautifulSoup(html)\n",
    "    links = soup.find_all(\"a\")\n",
    "    hrefs = [l.get(\"href\") for l in links]\n",
    "    box_scores = [l for l in hrefs if l and \"boxscore\" in l and \".html\" in l]\n",
    "    box_scores = [f\"https://www.basketball-reference.com{l}\" for l in box_scores]\n",
    "    for url in box_scores:\n",
    "        save_path = os.path.join(SCORES_DIR, url.split(\"/\")[-1])\n",
    "        if os.path.exists(save_path):\n",
    "            continue\n",
    "        html = await get_html(url, \"#content\")\n",
    "        if not html:\n",
    "            continue\n",
    "        with open(save_path, \"w+\", encoding=\"utf-8\") as f:\n",
    "            f.write(html)"
   ]
  },
  {
   "cell_type": "code",
   "execution_count": 15,
   "id": "68bab118-d6cc-4904-ad3e-8eb3b5ca0bf4",
   "metadata": {},
   "outputs": [],
   "source": [
    "standings_files = [s for s in standings_files if \".html\" in s]"
   ]
  },
  {
   "cell_type": "code",
   "execution_count": null,
   "id": "a5939dbe-cc26-4a52-9d0c-3ee9e28b13d5",
   "metadata": {},
   "outputs": [
    {
     "name": "stdout",
     "output_type": "stream",
     "text": [
      "Knicks vs Wizards, March 25, 2018 | Basketball-Reference.com\n",
      "Timeout error on https://www.basketball-reference.com/boxscores/201803250OKC.html\n",
      "Trail Blazers vs Thunder, March 25, 2018 | Basketball-Reference.com\n",
      "Hawks vs Rockets, March 25, 2018 | Basketball-Reference.com\n",
      "Jazz vs Warriors, March 25, 2018 | Basketball-Reference.com\n",
      "Knicks vs Hornets, March 26, 2018 | Basketball-Reference.com\n",
      "Lakers vs Pistons, March 26, 2018 | Basketball-Reference.com\n",
      "Nuggets vs 76ers, March 26, 2018 | Basketball-Reference.com\n",
      "Grizzlies vs Timberwolves, March 26, 2018 | Basketball-Reference.com\n",
      "Celtics vs Suns, March 26, 2018 | Basketball-Reference.com\n",
      "Spurs vs Wizards, March 27, 2018 | Basketball-Reference.com\n",
      "Nuggets vs Raptors, March 27, 2018 | Basketball-Reference.com\n",
      "Bulls vs Rockets, March 27, 2018 | Basketball-Reference.com\n",
      "Cavaliers vs Heat, March 27, 2018 | Basketball-Reference.com\n",
      "Trail Blazers vs Pelicans, March 27, 2018 | Basketball-Reference.com\n",
      "Mavericks vs Kings, March 27, 2018 | Basketball-Reference.com\n",
      "Pacers vs Warriors, March 27, 2018 | Basketball-Reference.com\n",
      "Bucks vs Clippers, March 27, 2018 | Basketball-Reference.com\n",
      "Cavaliers vs Hornets, March 28, 2018 | Basketball-Reference.com\n",
      "Nets vs Magic, March 28, 2018 | Basketball-Reference.com\n",
      "Knicks vs 76ers, March 28, 2018 | Basketball-Reference.com\n",
      "Trail Blazers vs Grizzlies, March 28, 2018 | Basketball-Reference.com\n",
      "Hawks vs Timberwolves, March 28, 2018 | Basketball-Reference.com\n",
      "Celtics vs Jazz, March 28, 2018 | Basketball-Reference.com\n",
      "Clippers vs Suns, March 28, 2018 | Basketball-Reference.com\n",
      "Mavericks vs Lakers, March 28, 2018 | Basketball-Reference.com\n",
      "Wizards vs Pistons, March 29, 2018 | Basketball-Reference.com\n",
      "Bulls vs Heat, March 29, 2018 | Basketball-Reference.com\n",
      "Thunder vs Spurs, March 29, 2018 | Basketball-Reference.com\n",
      "Pacers vs Kings, March 29, 2018 | Basketball-Reference.com\n",
      "Bucks vs Warriors, March 29, 2018 | Basketball-Reference.com\n",
      "Bulls vs Magic, March 30, 2018 | Basketball-Reference.com\n",
      "76ers vs Hawks, March 30, 2018 | Basketball-Reference.com\n",
      "Pelicans vs Cavaliers, March 30, 2018 | Basketball-Reference.com\n",
      "Suns vs Rockets, March 30, 2018 | Basketball-Reference.com\n",
      "Nuggets vs Thunder, March 30, 2018 | Basketball-Reference.com\n",
      "Timberwolves vs Mavericks, March 30, 2018 | Basketball-Reference.com\n",
      "Grizzlies vs Jazz, March 30, 2018 | Basketball-Reference.com\n",
      "Bucks vs Lakers, March 30, 2018 | Basketball-Reference.com\n",
      "Clippers vs Trail Blazers, March 30, 2018 | Basketball-Reference.com\n",
      "Hornets vs Wizards, March 31, 2018 | Basketball-Reference.com\n",
      "Pistons vs Knicks, March 31, 2018 | Basketball-Reference.com\n",
      "Raptors vs Celtics, March 31, 2018 | Basketball-Reference.com\n",
      "Nets vs Heat, March 31, 2018 | Basketball-Reference.com\n",
      "Warriors vs Kings, March 31, 2018 | Basketball-Reference.com\n",
      "2018 NBA Eastern Conference Semifinals Game 1: Cavaliers vs Raptors, May 1, 2018 | Basketball-Reference.com\n",
      "2018 NBA Western Conference Semifinals Game 2: Pelicans vs Warriors, May 1, 2018 | Basketball-Reference.com\n",
      "2018 NBA Western Conference Semifinals Game 2: Jazz vs Rockets, May 2, 2018 | Basketball-Reference.com\n",
      "2018 NBA Eastern Conference Semifinals Game 2: Cavaliers vs Raptors, May 3, 2018 | Basketball-Reference.com\n",
      "2018 NBA Eastern Conference Semifinals Game 2: 76ers vs Celtics, May 3, 2018 | Basketball-Reference.com\n",
      "2018 NBA Western Conference Semifinals Game 3: Warriors vs Pelicans, May 4, 2018 | Basketball-Reference.com\n",
      "2018 NBA Western Conference Semifinals Game 3: Rockets vs Jazz, May 4, 2018 | Basketball-Reference.com\n",
      "2018 NBA Eastern Conference Semifinals Game 3: Celtics vs 76ers, May 5, 2018 | Basketball-Reference.com\n",
      "2018 NBA Eastern Conference Semifinals Game 3: Raptors vs Cavaliers, May 5, 2018 | Basketball-Reference.com\n",
      "2018 NBA Western Conference Semifinals Game 4: Warriors vs Pelicans, May 6, 2018 | Basketball-Reference.com\n",
      "2018 NBA Western Conference Semifinals Game 4: Rockets vs Jazz, May 6, 2018 | Basketball-Reference.com\n",
      "2018 NBA Eastern Conference Semifinals Game 4: Celtics vs 76ers, May 7, 2018 | Basketball-Reference.com\n",
      "Timeout error on https://www.basketball-reference.com/boxscores/201805070CLE.html\n",
      "2018 NBA Eastern Conference Semifinals Game 4: Raptors vs Cavaliers, May 7, 2018 | Basketball-Reference.com\n",
      "2018 NBA Western Conference Semifinals Game 5: Jazz vs Rockets, May 8, 2018 | Basketball-Reference.com\n",
      "2018 NBA Western Conference Semifinals Game 5: Pelicans vs Warriors, May 8, 2018 | Basketball-Reference.com\n",
      "2018 NBA Eastern Conference Semifinals Game 5: 76ers vs Celtics, May 9, 2018 | Basketball-Reference.com\n",
      "2018 NBA Eastern Conference Finals Game 1: Cavaliers vs Celtics, May 13, 2018 | Basketball-Reference.com\n",
      "2018 NBA Western Conference Finals Game 1: Warriors vs Rockets, May 14, 2018 | Basketball-Reference.com\n",
      "2018 NBA Eastern Conference Finals Game 2: Cavaliers vs Celtics, May 15, 2018 | Basketball-Reference.com\n",
      "2018 NBA Western Conference Finals Game 2: Warriors vs Rockets, May 16, 2018 | Basketball-Reference.com\n",
      "2018 NBA Eastern Conference Finals Game 3: Celtics vs Cavaliers, May 19, 2018 | Basketball-Reference.com\n",
      "2018 NBA Western Conference Finals Game 3: Rockets vs Warriors, May 20, 2018 | Basketball-Reference.com\n",
      "2018 NBA Eastern Conference Finals Game 4: Celtics vs Cavaliers, May 21, 2018 | Basketball-Reference.com\n",
      "2018 NBA Western Conference Finals Game 4: Rockets vs Warriors, May 22, 2018 | Basketball-Reference.com\n",
      "2018 NBA Eastern Conference Finals Game 5: Cavaliers vs Celtics, May 23, 2018 | Basketball-Reference.com\n",
      "2018 NBA Western Conference Finals Game 5: Warriors vs Rockets, May 24, 2018 | Basketball-Reference.com\n",
      "2018 NBA Eastern Conference Finals Game 6: Celtics vs Cavaliers, May 25, 2018 | Basketball-Reference.com\n",
      "2018 NBA Western Conference Finals Game 6: Rockets vs Warriors, May 26, 2018 | Basketball-Reference.com\n",
      "2018 NBA Eastern Conference Finals Game 7: Cavaliers vs Celtics, May 27, 2018 | Basketball-Reference.com\n",
      "2018 NBA Western Conference Finals Game 7: Warriors vs Rockets, May 28, 2018 | Basketball-Reference.com\n",
      "2018 NBA Finals Game 1: Cavaliers vs Warriors, May 31, 2018 | Basketball-Reference.com\n",
      "Bucks vs Hornets, November 1, 2017 | Basketball-Reference.com\n",
      "Pacers vs Cavaliers, November 1, 2017 | Basketball-Reference.com\n",
      "Hawks vs 76ers, November 1, 2017 | Basketball-Reference.com\n",
      "Suns vs Wizards, November 1, 2017 | Basketball-Reference.com\n",
      "Kings vs Celtics, November 1, 2017 | Basketball-Reference.com\n",
      "Bulls vs Heat, November 1, 2017 | Basketball-Reference.com\n",
      "Magic vs Grizzlies, November 1, 2017 | Basketball-Reference.com\n"
     ]
    }
   ],
   "source": [
    "\n",
    "for f in standings_files:\n",
    "    filepath = os.path.join(STANDINGS_DIR, f)\n",
    "    await scrape_game(filepath)\n"
   ]
  },
  {
   "cell_type": "code",
   "execution_count": null,
   "id": "75f59f0e-8217-4890-b348-97c9dcba392f",
   "metadata": {},
   "outputs": [],
   "source": []
  }
 ],
 "metadata": {
  "kernelspec": {
   "display_name": "Python 3 (ipykernel)",
   "language": "python",
   "name": "python3"
  },
  "language_info": {
   "codemirror_mode": {
    "name": "ipython",
    "version": 3
   },
   "file_extension": ".py",
   "mimetype": "text/x-python",
   "name": "python",
   "nbconvert_exporter": "python",
   "pygments_lexer": "ipython3",
   "version": "3.12.4"
  }
 },
 "nbformat": 4,
 "nbformat_minor": 5
}

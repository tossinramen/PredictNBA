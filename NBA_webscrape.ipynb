{
 "cells": [
  {
   "cell_type": "code",
   "execution_count": 2,
   "id": "0c0cd2b7-3c58-45f1-ac4b-82ac42e46eed",
   "metadata": {},
   "outputs": [],
   "source": [
    "import os\n",
    "from bs4 import BeautifulSoup\n",
    "from playwright.async_api import async_playwright, TimeoutError as PlaywrightTimeout\n",
    "import time"
   ]
  },
  {
   "cell_type": "code",
   "execution_count": 3,
   "id": "c5f47d0c-5fe1-4283-99f6-c9242c4cef6a",
   "metadata": {},
   "outputs": [
    {
     "name": "stdout",
     "output_type": "stream",
     "text": [
      "Requirement already satisfied: beautifulsoup4 in c:\\users\\tahsi\\downloads\\anaconda3\\lib\\site-packages (4.12.3)\n",
      "Requirement already satisfied: soupsieve>1.2 in c:\\users\\tahsi\\downloads\\anaconda3\\lib\\site-packages (from beautifulsoup4) (2.5)\n",
      "Note: you may need to restart the kernel to use updated packages.\n"
     ]
    }
   ],
   "source": [
    "%pip install beautifulsoup4"
   ]
  },
  {
   "cell_type": "code",
   "execution_count": 4,
   "id": "6fdebd9a-745e-428c-8bb9-2326018f048a",
   "metadata": {},
   "outputs": [
    {
     "name": "stdout",
     "output_type": "stream",
     "text": [
      "Requirement already satisfied: playwright in c:\\users\\tahsi\\downloads\\anaconda3\\lib\\site-packages (1.50.0)\n",
      "Requirement already satisfied: pyee<13,>=12 in c:\\users\\tahsi\\downloads\\anaconda3\\lib\\site-packages (from playwright) (12.1.1)\n",
      "Requirement already satisfied: greenlet<4.0.0,>=3.1.1 in c:\\users\\tahsi\\downloads\\anaconda3\\lib\\site-packages (from playwright) (3.1.1)\n",
      "Requirement already satisfied: typing-extensions in c:\\users\\tahsi\\downloads\\anaconda3\\lib\\site-packages (from pyee<13,>=12->playwright) (4.11.0)\n",
      "Note: you may need to restart the kernel to use updated packages.\n"
     ]
    }
   ],
   "source": [
    "%pip install playwright"
   ]
  },
  {
   "cell_type": "code",
   "execution_count": 5,
   "id": "84ced099-08d5-4b13-a0a7-6952fd648bae",
   "metadata": {},
   "outputs": [],
   "source": [
    "!playwright install"
   ]
  },
  {
   "cell_type": "code",
   "execution_count": 6,
   "id": "48ec59d4-039b-44fb-b43f-212755bea1e3",
   "metadata": {},
   "outputs": [],
   "source": [
    "SEASONS = list(range(2018, 2025))"
   ]
  },
  {
   "cell_type": "code",
   "execution_count": 7,
   "id": "4c7a1fee-4e7a-4ccf-9abf-3af4387a9e2f",
   "metadata": {},
   "outputs": [
    {
     "data": {
      "text/plain": [
       "[2018, 2019, 2020, 2021, 2022, 2023, 2024]"
      ]
     },
     "execution_count": 7,
     "metadata": {},
     "output_type": "execute_result"
    }
   ],
   "source": [
    "SEASONS"
   ]
  },
  {
   "cell_type": "code",
   "execution_count": 8,
   "id": "f8fe1b62-70db-4f0b-9012-5ead25666512",
   "metadata": {},
   "outputs": [],
   "source": [
    "DATA_DIR = \"data\"\n",
    "STANDINGS_DIR = os.path.join(DATA_DIR, \"standings\")\n",
    "SCORES_DIR = os.path.join(DATA_DIR, \"scores\")"
   ]
  },
  {
   "cell_type": "code",
   "execution_count": null,
   "id": "166056e5-89d0-4c45-8799-213a7981d4ab",
   "metadata": {},
   "outputs": [],
   "source": [
    "async def get_html(url, selector, sleep=5, retries=3):\n",
    "    html = None\n",
    "    for i in range(1, retries+1):\n",
    "        time.sleep(sleep * i) # so we don't get banned for trying to scrape too fast\n"
   ]
  }
 ],
 "metadata": {
  "kernelspec": {
   "display_name": "Python 3 (ipykernel)",
   "language": "python",
   "name": "python3"
  },
  "language_info": {
   "codemirror_mode": {
    "name": "ipython",
    "version": 3
   },
   "file_extension": ".py",
   "mimetype": "text/x-python",
   "name": "python",
   "nbconvert_exporter": "python",
   "pygments_lexer": "ipython3",
   "version": "3.12.4"
  }
 },
 "nbformat": 4,
 "nbformat_minor": 5
}

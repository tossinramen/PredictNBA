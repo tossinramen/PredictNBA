{
 "cells": [
  {
   "cell_type": "code",
   "execution_count": 1,
   "id": "0c0cd2b7-3c58-45f1-ac4b-82ac42e46eed",
   "metadata": {},
   "outputs": [],
   "source": [
    "import os\n",
    "from bs4 import BeautifulSoup\n",
    "from playwright.async_api import async_playwright, TimeoutError as PlaywrightTimeout\n",
    "import time"
   ]
  },
  {
   "cell_type": "code",
   "execution_count": 2,
   "id": "c5f47d0c-5fe1-4283-99f6-c9242c4cef6a",
   "metadata": {},
   "outputs": [
    {
     "name": "stdout",
     "output_type": "stream",
     "text": [
      "Requirement already satisfied: beautifulsoup4 in c:\\users\\tahsi\\downloads\\anaconda3\\lib\\site-packages (4.12.3)\n",
      "Requirement already satisfied: soupsieve>1.2 in c:\\users\\tahsi\\downloads\\anaconda3\\lib\\site-packages (from beautifulsoup4) (2.5)\n",
      "Note: you may need to restart the kernel to use updated packages.\n"
     ]
    }
   ],
   "source": [
    "%pip install beautifulsoup4"
   ]
  },
  {
   "cell_type": "code",
   "execution_count": 3,
   "id": "6fdebd9a-745e-428c-8bb9-2326018f048a",
   "metadata": {},
   "outputs": [
    {
     "name": "stdout",
     "output_type": "stream",
     "text": [
      "Requirement already satisfied: playwright in c:\\users\\tahsi\\downloads\\anaconda3\\lib\\site-packages (1.50.0)\n",
      "Requirement already satisfied: pyee<13,>=12 in c:\\users\\tahsi\\downloads\\anaconda3\\lib\\site-packages (from playwright) (12.1.1)\n",
      "Requirement already satisfied: greenlet<4.0.0,>=3.1.1 in c:\\users\\tahsi\\downloads\\anaconda3\\lib\\site-packages (from playwright) (3.1.1)\n",
      "Requirement already satisfied: typing-extensions in c:\\users\\tahsi\\downloads\\anaconda3\\lib\\site-packages (from pyee<13,>=12->playwright) (4.12.2)\n",
      "Note: you may need to restart the kernel to use updated packages.\n"
     ]
    }
   ],
   "source": [
    "%pip install playwright"
   ]
  },
  {
   "cell_type": "code",
   "execution_count": 4,
   "id": "84ced099-08d5-4b13-a0a7-6952fd648bae",
   "metadata": {},
   "outputs": [],
   "source": [
    "!playwright install"
   ]
  },
  {
   "cell_type": "code",
   "execution_count": 5,
   "id": "48ec59d4-039b-44fb-b43f-212755bea1e3",
   "metadata": {},
   "outputs": [],
   "source": [
    "SEASONS = list(range(2021, 2026))"
   ]
  },
  {
   "cell_type": "code",
   "execution_count": 6,
   "id": "4c7a1fee-4e7a-4ccf-9abf-3af4387a9e2f",
   "metadata": {},
   "outputs": [
    {
     "data": {
      "text/plain": [
       "[2021, 2022, 2023, 2024, 2025]"
      ]
     },
     "execution_count": 6,
     "metadata": {},
     "output_type": "execute_result"
    }
   ],
   "source": [
    "SEASONS"
   ]
  },
  {
   "cell_type": "code",
   "execution_count": 7,
   "id": "f8fe1b62-70db-4f0b-9012-5ead25666512",
   "metadata": {},
   "outputs": [],
   "source": [
    "DATA_DIR = \"data\"\n",
    "STANDINGS_DIR = os.path.join(DATA_DIR, \"standings\")\n",
    "SCORES_DIR = os.path.join(DATA_DIR, \"scores\")"
   ]
  },
  {
   "cell_type": "code",
   "execution_count": 8,
   "id": "166056e5-89d0-4c45-8799-213a7981d4ab",
   "metadata": {},
   "outputs": [],
   "source": [
    "async def get_html(url, selector, sleep=5, retries=3):\n",
    "    html = None\n",
    "    for i in range(1, retries+1):\n",
    "        time.sleep(sleep * i) # so we don't get banned for trying to scrape too fast\n",
    "\n",
    "        try: \n",
    "            async with async_playwright() as p:\n",
    "                browser = await p.chromium.launch()\n",
    "                page = await browser.new_page()\n",
    "                await page.goto(url)\n",
    "                print(await page.title())\n",
    "                html = await page.inner_html(selector) #only select pieces of html\n",
    "        except PlaywrightTimeout:\n",
    "            print(f\"Timeout error on {url}\")\n",
    "            continue #goes back to beginning of loop @ for statement\n",
    "        else:\n",
    "            break #successful scrape = break the loop, not retry\n",
    "    return html\n",
    "\n",
    "\n"
   ]
  },
  {
   "cell_type": "code",
   "execution_count": 9,
   "id": "3476ab4e-7f02-4ac2-a551-6f1d692af8ad",
   "metadata": {},
   "outputs": [],
   "source": [
    "async def scrape_season(season):\n",
    "    url = f\"https://www.basketball-reference.com/leagues/NBA_{season}_games.html\"\n",
    "    html = await get_html(url, \"#content .filter\")\n",
    "\n",
    "    soup = BeautifulSoup(html)\n",
    "    links = soup.find_all(\"a\")\n",
    "    href = [l[\"href\"] for l in links]\n",
    "    standings_pages = [f\"https://basketball-reference.com{l}\" for l in href]\n",
    "\n",
    "    for url in standings_pages:\n",
    "        save_path = os.path.join(STANDINGS_DIR, url.split(\"/\")[-1])\n",
    "        if os.path.exists(save_path):\n",
    "            continue\n",
    "        html = await get_html(url, \"#all_schedule\")\n",
    "        with open(save_path, \"w+\") as f: \n",
    "            f.write(html)"
   ]
  },
  {
   "cell_type": "code",
   "execution_count": 10,
   "id": "a7d0ba7b-2ea6-4316-aa59-a0111a375ee9",
   "metadata": {},
   "outputs": [
    {
     "name": "stdout",
     "output_type": "stream",
     "text": [
      "2020-21 NBA Schedule | Basketball-Reference.com\n",
      "2021-22 NBA Schedule | Basketball-Reference.com\n",
      "2022-23 NBA Schedule | Basketball-Reference.com\n",
      "2023-24 NBA Schedule | Basketball-Reference.com\n",
      "2024-25 NBA Schedule | Basketball-Reference.com\n"
     ]
    }
   ],
   "source": [
    "for season in SEASONS:\n",
    "    await scrape_season(season)\n",
    "    "
   ]
  },
  {
   "cell_type": "code",
   "execution_count": 11,
   "id": "fd64f841-89c9-4a16-8340-f650ab98ad24",
   "metadata": {},
   "outputs": [],
   "source": [
    "#parsing boxscore links \n",
    "standings_files = os.listdir(STANDINGS_DIR)"
   ]
  },
  {
   "cell_type": "code",
   "execution_count": 12,
   "id": "3d96890e-f6fc-4a62-a9de-78ae6b0a7203",
   "metadata": {},
   "outputs": [
    {
     "data": {
      "text/plain": [
       "['NBA_2018_games-april.html',\n",
       " 'NBA_2018_games-december.html',\n",
       " 'NBA_2018_games-february.html',\n",
       " 'NBA_2018_games-january.html',\n",
       " 'NBA_2018_games-june.html',\n",
       " 'NBA_2018_games-march.html',\n",
       " 'NBA_2018_games-may.html',\n",
       " 'NBA_2018_games-november.html',\n",
       " 'NBA_2018_games-october.html',\n",
       " 'NBA_2019_games-april.html',\n",
       " 'NBA_2019_games-december.html',\n",
       " 'NBA_2019_games-february.html',\n",
       " 'NBA_2019_games-january.html',\n",
       " 'NBA_2019_games-june.html',\n",
       " 'NBA_2019_games-march.html',\n",
       " 'NBA_2019_games-may.html',\n",
       " 'NBA_2019_games-november.html',\n",
       " 'NBA_2019_games-october.html',\n",
       " 'NBA_2020_games-august.html',\n",
       " 'NBA_2020_games-december.html',\n",
       " 'NBA_2020_games-february.html',\n",
       " 'NBA_2020_games-january.html',\n",
       " 'NBA_2020_games-july.html',\n",
       " 'NBA_2020_games-march.html',\n",
       " 'NBA_2020_games-november.html',\n",
       " 'NBA_2020_games-october-2019.html',\n",
       " 'NBA_2020_games-october-2020.html',\n",
       " 'NBA_2020_games-september.html',\n",
       " 'NBA_2021_games-april.html',\n",
       " 'NBA_2021_games-december.html',\n",
       " 'NBA_2021_games-february.html',\n",
       " 'NBA_2021_games-january.html',\n",
       " 'NBA_2021_games-july.html',\n",
       " 'NBA_2021_games-june.html',\n",
       " 'NBA_2021_games-march.html',\n",
       " 'NBA_2021_games-may.html',\n",
       " 'NBA_2022_games-april.html',\n",
       " 'NBA_2022_games-december.html',\n",
       " 'NBA_2022_games-february.html',\n",
       " 'NBA_2022_games-january.html',\n",
       " 'NBA_2022_games-june.html',\n",
       " 'NBA_2022_games-march.html',\n",
       " 'NBA_2022_games-may.html',\n",
       " 'NBA_2022_games-november.html',\n",
       " 'NBA_2022_games-october.html',\n",
       " 'NBA_2023_games-april.html',\n",
       " 'NBA_2023_games-december.html',\n",
       " 'NBA_2023_games-february.html',\n",
       " 'NBA_2023_games-january.html',\n",
       " 'NBA_2023_games-june.html',\n",
       " 'NBA_2023_games-march.html',\n",
       " 'NBA_2023_games-may.html',\n",
       " 'NBA_2023_games-november.html',\n",
       " 'NBA_2023_games-october.html',\n",
       " 'NBA_2024_games-april.html',\n",
       " 'NBA_2024_games-december.html',\n",
       " 'NBA_2024_games-february.html',\n",
       " 'NBA_2024_games-january.html',\n",
       " 'NBA_2024_games-june.html',\n",
       " 'NBA_2024_games-march.html',\n",
       " 'NBA_2024_games-may.html',\n",
       " 'NBA_2024_games-november.html',\n",
       " 'NBA_2024_games-october.html',\n",
       " 'NBA_2025_games-april.html',\n",
       " 'NBA_2025_games-december.html',\n",
       " 'NBA_2025_games-february.html',\n",
       " 'NBA_2025_games-january.html',\n",
       " 'NBA_2025_games-march.html',\n",
       " 'NBA_2025_games-november.html',\n",
       " 'NBA_2025_games-october.html']"
      ]
     },
     "execution_count": 12,
     "metadata": {},
     "output_type": "execute_result"
    }
   ],
   "source": [
    "standings_files"
   ]
  },
  {
   "cell_type": "code",
   "execution_count": 13,
   "id": "37095880-8179-43c0-afaa-fa53cf942205",
   "metadata": {},
   "outputs": [],
   "source": [
    "async def scrape_game(standings_file):\n",
    "    with open(standings_file, 'r') as f:\n",
    "        html = f.read()\n",
    "    soup = BeautifulSoup(html)\n",
    "    links = soup.find_all(\"a\")\n",
    "    hrefs = [l.get(\"href\") for l in links]\n",
    "    box_scores = [l for l in hrefs if l and \"boxscore\" in l and \".html\" in l]\n",
    "    box_scores = [f\"https://www.basketball-reference.com{l}\" for l in box_scores]\n",
    "    for url in box_scores:\n",
    "        save_path = os.path.join(SCORES_DIR, url.split(\"/\")[-1])\n",
    "        if os.path.exists(save_path):\n",
    "            continue\n",
    "        html = await get_html(url, \"#content\")\n",
    "        if not html:\n",
    "            continue\n",
    "        with open(save_path, \"w+\", encoding=\"utf-8\") as f:\n",
    "            f.write(html)"
   ]
  },
  {
   "cell_type": "code",
   "execution_count": 14,
   "id": "68bab118-d6cc-4904-ad3e-8eb3b5ca0bf4",
   "metadata": {},
   "outputs": [],
   "source": [
    "standings_files = [s for s in standings_files if \".html\" in s]"
   ]
  },
  {
   "cell_type": "code",
   "execution_count": null,
   "id": "a5939dbe-cc26-4a52-9d0c-3ee9e28b13d5",
   "metadata": {},
   "outputs": [
    {
     "name": "stdout",
     "output_type": "stream",
     "text": [
      "Thunder vs Timberwolves, October 19, 2022 | Basketball-Reference.com\n",
      "Nuggets vs Warriors, October 21, 2022 | Basketball-Reference.com\n",
      "Clippers vs Thunder, October 27, 2022 | Basketball-Reference.com\n",
      "Magic vs Mavericks, October 30, 2022 | Basketball-Reference.com\n",
      "Rockets vs Suns, October 30, 2022 | Basketball-Reference.com\n",
      "Hawks vs Timberwolves, April 12, 2024 | Basketball-Reference.com\n",
      "Bucks vs Thunder, April 12, 2024 | Basketball-Reference.com\n",
      "Nuggets vs Spurs, April 12, 2024 | Basketball-Reference.com\n",
      "Pistons vs Mavericks, April 12, 2024 | Basketball-Reference.com\n",
      "Pelicans vs Warriors, April 12, 2024 | Basketball-Reference.com\n",
      "Rockets vs Trail Blazers, April 12, 2024 | Basketball-Reference.com\n",
      "Jazz vs Clippers, April 12, 2024 | Basketball-Reference.com\n",
      "Suns vs Kings, April 12, 2024 | Basketball-Reference.com\n",
      "Wizards vs Celtics, April 14, 2024 | Basketball-Reference.com\n",
      "Hornets vs Cavaliers, April 14, 2024 | Basketball-Reference.com\n",
      "Hawks vs Pacers, April 14, 2024 | Basketball-Reference.com\n",
      "Raptors vs Heat, April 14, 2024 | Basketball-Reference.com\n",
      "Bulls vs Knicks, April 14, 2024 | Basketball-Reference.com\n",
      "Bucks vs Magic, April 14, 2024 | Basketball-Reference.com\n",
      "Nets vs 76ers, April 14, 2024 | Basketball-Reference.com\n",
      "Jazz vs Warriors, April 14, 2024 | Basketball-Reference.com\n",
      "Rockets vs Clippers, April 14, 2024 | Basketball-Reference.com\n",
      "Nuggets vs Grizzlies, April 14, 2024 | Basketball-Reference.com\n",
      "Suns vs Timberwolves, April 14, 2024 | Basketball-Reference.com\n",
      "Lakers vs Pelicans, April 14, 2024 | Basketball-Reference.com\n",
      "Mavericks vs Thunder, April 14, 2024 | Basketball-Reference.com\n",
      "Trail Blazers vs Kings, April 14, 2024 | Basketball-Reference.com\n",
      "Pistons vs Spurs, April 14, 2024 | Basketball-Reference.com\n",
      "Play-In Game: Lakers vs Pelicans, April 16, 2024 | Basketball-Reference.com\n",
      "Play-In Game: Warriors vs Kings, April 16, 2024 | Basketball-Reference.com\n",
      "Play-In Game: Heat vs 76ers, April 17, 2024 | Basketball-Reference.com\n",
      "Play-In Game: Hawks vs Bulls, April 17, 2024 | Basketball-Reference.com\n",
      "Play-In Game: Bulls vs Heat, April 19, 2024 | Basketball-Reference.com\n",
      "Play-In Game: Kings vs Pelicans, April 19, 2024 | Basketball-Reference.com\n",
      "2024 NBA Eastern Conference First Round Game 1: Magic vs Cavaliers, April 20, 2024 | Basketball-Reference.com\n",
      "2024 NBA Western Conference First Round Game 1: Suns vs Timberwolves, April 20, 2024 | Basketball-Reference.com\n",
      "2024 NBA Eastern Conference First Round Game 1: 76ers vs Knicks, April 20, 2024 | Basketball-Reference.com\n",
      "2024 NBA Western Conference First Round Game 1: Lakers vs Nuggets, April 20, 2024 | Basketball-Reference.com\n",
      "Timeout error on https://www.basketball-reference.com/boxscores/202404210BOS.html\n",
      "2024 NBA Eastern Conference First Round Game 1: Heat vs Celtics, April 21, 2024 | Basketball-Reference.com\n",
      "2024 NBA Western Conference First Round Game 1: Mavericks vs Clippers, April 21, 2024 | Basketball-Reference.com\n",
      "2024 NBA Eastern Conference First Round Game 1: Pacers vs Bucks, April 21, 2024 | Basketball-Reference.com\n",
      "2024 NBA Western Conference First Round Game 1: Pelicans vs Thunder, April 21, 2024 | Basketball-Reference.com\n",
      "2024 NBA Eastern Conference First Round Game 2: Magic vs Cavaliers, April 22, 2024 | Basketball-Reference.com\n",
      "2024 NBA Eastern Conference First Round Game 2: 76ers vs Knicks, April 22, 2024 | Basketball-Reference.com\n",
      "2024 NBA Western Conference First Round Game 2: Lakers vs Nuggets, April 22, 2024 | Basketball-Reference.com\n",
      "2024 NBA Western Conference First Round Game 2: Suns vs Timberwolves, April 23, 2024 | Basketball-Reference.com\n",
      "2024 NBA Eastern Conference First Round Game 2: Pacers vs Bucks, April 23, 2024 | Basketball-Reference.com\n",
      "2024 NBA Western Conference First Round Game 2: Mavericks vs Clippers, April 23, 2024 | Basketball-Reference.com\n",
      "2024 NBA Eastern Conference First Round Game 2: Heat vs Celtics, April 24, 2024 | Basketball-Reference.com\n",
      "2024 NBA Western Conference First Round Game 2: Pelicans vs Thunder, April 24, 2024 | Basketball-Reference.com\n",
      "2024 NBA Eastern Conference First Round Game 3: Cavaliers vs Magic, April 25, 2024 | Basketball-Reference.com\n",
      "2024 NBA Eastern Conference First Round Game 3: Knicks vs 76ers, April 25, 2024 | Basketball-Reference.com\n",
      "2024 NBA Western Conference First Round Game 3: Nuggets vs Lakers, April 25, 2024 | Basketball-Reference.com\n"
     ]
    }
   ],
   "source": [
    "\n",
    "for f in standings_files:\n",
    "    filepath = os.path.join(STANDINGS_DIR, f)\n",
    "    await scrape_game(filepath)\n"
   ]
  }
 ],
 "metadata": {
  "kernelspec": {
   "display_name": "Python 3 (ipykernel)",
   "language": "python",
   "name": "python3"
  },
  "language_info": {
   "codemirror_mode": {
    "name": "ipython",
    "version": 3
   },
   "file_extension": ".py",
   "mimetype": "text/x-python",
   "name": "python",
   "nbconvert_exporter": "python",
   "pygments_lexer": "ipython3",
   "version": "3.12.4"
  }
 },
 "nbformat": 4,
 "nbformat_minor": 5
}

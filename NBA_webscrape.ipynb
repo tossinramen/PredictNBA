{
 "cells": [
  {
   "cell_type": "code",
   "execution_count": 2,
   "id": "0c0cd2b7-3c58-45f1-ac4b-82ac42e46eed",
   "metadata": {},
   "outputs": [],
   "source": [
    "import os\n",
    "from bs4 import BeautifulSoup\n",
    "from playwright.async_api import async_playwright, TimeoutError as PlaywrightTimeout\n",
    "import time"
   ]
  },
  {
   "cell_type": "code",
   "execution_count": 3,
   "id": "c5f47d0c-5fe1-4283-99f6-c9242c4cef6a",
   "metadata": {},
   "outputs": [
    {
     "name": "stdout",
     "output_type": "stream",
     "text": [
      "Requirement already satisfied: beautifulsoup4 in c:\\users\\tahsi\\downloads\\anaconda3\\lib\\site-packages (4.12.3)\n",
      "Requirement already satisfied: soupsieve>1.2 in c:\\users\\tahsi\\downloads\\anaconda3\\lib\\site-packages (from beautifulsoup4) (2.5)\n",
      "Note: you may need to restart the kernel to use updated packages.\n"
     ]
    }
   ],
   "source": [
    "%pip install beautifulsoup4"
   ]
  },
  {
   "cell_type": "code",
   "execution_count": 4,
   "id": "6fdebd9a-745e-428c-8bb9-2326018f048a",
   "metadata": {},
   "outputs": [
    {
     "name": "stdout",
     "output_type": "stream",
     "text": [
      "Requirement already satisfied: playwright in c:\\users\\tahsi\\downloads\\anaconda3\\lib\\site-packages (1.50.0)\n",
      "Requirement already satisfied: pyee<13,>=12 in c:\\users\\tahsi\\downloads\\anaconda3\\lib\\site-packages (from playwright) (12.1.1)\n",
      "Requirement already satisfied: greenlet<4.0.0,>=3.1.1 in c:\\users\\tahsi\\downloads\\anaconda3\\lib\\site-packages (from playwright) (3.1.1)\n",
      "Requirement already satisfied: typing-extensions in c:\\users\\tahsi\\downloads\\anaconda3\\lib\\site-packages (from pyee<13,>=12->playwright) (4.11.0)\n",
      "Note: you may need to restart the kernel to use updated packages.\n"
     ]
    }
   ],
   "source": [
    "%pip install playwright"
   ]
  },
  {
   "cell_type": "code",
   "execution_count": 5,
   "id": "84ced099-08d5-4b13-a0a7-6952fd648bae",
   "metadata": {},
   "outputs": [],
   "source": [
    "!playwright install"
   ]
  },
  {
   "cell_type": "code",
   "execution_count": 6,
   "id": "48ec59d4-039b-44fb-b43f-212755bea1e3",
   "metadata": {},
   "outputs": [],
   "source": [
    "SEASONS = list(range(2018, 2025))"
   ]
  },
  {
   "cell_type": "code",
   "execution_count": 7,
   "id": "4c7a1fee-4e7a-4ccf-9abf-3af4387a9e2f",
   "metadata": {},
   "outputs": [
    {
     "data": {
      "text/plain": [
       "[2018, 2019, 2020, 2021, 2022, 2023, 2024]"
      ]
     },
     "execution_count": 7,
     "metadata": {},
     "output_type": "execute_result"
    }
   ],
   "source": [
    "SEASONS"
   ]
  },
  {
   "cell_type": "code",
   "execution_count": 8,
   "id": "f8fe1b62-70db-4f0b-9012-5ead25666512",
   "metadata": {},
   "outputs": [],
   "source": [
    "DATA_DIR = \"data\"\n",
    "STANDINGS_DIR = os.path.join(DATA_DIR, \"standings\")\n",
    "SCORES_DIR = os.path.join(DATA_DIR, \"scores\")"
   ]
  },
  {
   "cell_type": "code",
   "execution_count": 16,
   "id": "166056e5-89d0-4c45-8799-213a7981d4ab",
   "metadata": {},
   "outputs": [],
   "source": [
    "async def get_html(url, selector, sleep=5, retries=3):\n",
    "    html = None\n",
    "    for i in range(1, retries+1):\n",
    "        time.sleep(sleep * i) # so we don't get banned for trying to scrape too fast\n",
    "\n",
    "        try: \n",
    "            async with async_playwright() as p:\n",
    "                browser = await p.chromium.launch()\n",
    "                page = await browser.new_page()\n",
    "                await page.goto(url)\n",
    "                print(await page.title())\n",
    "                html = await page.inner_html(selector) #only select pieces of html\n",
    "        except PlaywrightTimeout:\n",
    "            print(f\"Timeout error on {url}\")\n",
    "            continue #goes back to beginning of loop @ for statement\n",
    "        else:\n",
    "            break #successful scrape = break the loop, not retry\n",
    "    return html\n",
    "\n",
    "\n"
   ]
  },
  {
   "cell_type": "code",
   "execution_count": 28,
   "id": "3476ab4e-7f02-4ac2-a551-6f1d692af8ad",
   "metadata": {},
   "outputs": [],
   "source": [
    "async def scrape_season(season):\n",
    "    url = f\"https://www.basketball-reference.com/leagues/NBA_{season}_games.html\"\n",
    "    html = await get_html(url, \"#content .filter\")\n",
    "\n",
    "    soup = BeautifulSoup(html)\n",
    "    links = soup.find_all(\"a\")\n",
    "    href = [l[\"href\"] for l in links]\n",
    "    standings_pages = [f\"https://basketball-reference.com{l}\" for l in href]\n",
    "\n",
    "    for url in standings_pages:\n",
    "        save_path = os.path.join(STANDINGS_DIR, url.split(\"/\")[-1])\n",
    "        if os.path.exists(save_path):\n",
    "            continue\n",
    "        html = await get_html(url, \"#all_schedule\")\n",
    "        with open(save_path, \"w+\") as f: \n",
    "            f.write(html)"
   ]
  },
  {
   "cell_type": "code",
   "execution_count": 29,
   "id": "a7d0ba7b-2ea6-4316-aa59-a0111a375ee9",
   "metadata": {},
   "outputs": [
    {
     "name": "stdout",
     "output_type": "stream",
     "text": [
      "2017-18 NBA Schedule | Basketball-Reference.com\n",
      "2017-18 NBA Schedule | Basketball-Reference.com\n",
      "2017-18 NBA Schedule | Basketball-Reference.com\n",
      "2017-18 NBA Schedule | Basketball-Reference.com\n",
      "2017-18 NBA Schedule | Basketball-Reference.com\n",
      "Timeout error on https://basketball-reference.com/leagues/NBA_2018_games-february.html\n",
      "2017-18 NBA Schedule | Basketball-Reference.com\n",
      "2017-18 NBA Schedule | Basketball-Reference.com\n",
      "Timeout error on https://basketball-reference.com/leagues/NBA_2018_games-april.html\n",
      "2017-18 NBA Schedule | Basketball-Reference.com\n",
      "2017-18 NBA Schedule | Basketball-Reference.com\n",
      "2017-18 NBA Schedule | Basketball-Reference.com\n",
      "2018-19 NBA Schedule | Basketball-Reference.com\n",
      "2018-19 NBA Schedule | Basketball-Reference.com\n",
      "2018-19 NBA Schedule | Basketball-Reference.com\n",
      "2018-19 NBA Schedule | Basketball-Reference.com\n",
      "2018-19 NBA Schedule | Basketball-Reference.com\n",
      "2018-19 NBA Schedule | Basketball-Reference.com\n",
      "2018-19 NBA Schedule | Basketball-Reference.com\n",
      "2018-19 NBA Schedule | Basketball-Reference.com\n",
      "2018-19 NBA Schedule | Basketball-Reference.com\n",
      "Timeout error on https://basketball-reference.com/leagues/NBA_2019_games-june.html\n",
      "2018-19 NBA Schedule | Basketball-Reference.com\n",
      "2019-20 NBA Schedule | Basketball-Reference.com\n",
      "2019-20 NBA Schedule | Basketball-Reference.com\n",
      "2019-20 NBA Schedule | Basketball-Reference.com\n",
      "Timeout error on https://basketball-reference.com/leagues/NBA_2020_games-december.html\n",
      "2019-20 NBA Schedule | Basketball-Reference.com\n",
      "2019-20 NBA Schedule | Basketball-Reference.com\n",
      "2019-20 NBA Schedule | Basketball-Reference.com\n",
      "2019-20 NBA Schedule | Basketball-Reference.com\n",
      "2019-20 NBA Schedule | Basketball-Reference.com\n",
      "2019-20 NBA Schedule | Basketball-Reference.com\n",
      "2019-20 NBA Schedule | Basketball-Reference.com\n",
      "2019-20 NBA Schedule | Basketball-Reference.com\n",
      "2020-21 NBA Schedule | Basketball-Reference.com\n",
      "Timeout error on https://basketball-reference.com/leagues/NBA_2021_games-december.html\n",
      "2020-21 NBA Schedule | Basketball-Reference.com\n",
      "2020-21 NBA Schedule | Basketball-Reference.com\n",
      "2020-21 NBA Schedule | Basketball-Reference.com\n",
      "2020-21 NBA Schedule | Basketball-Reference.com\n",
      "2020-21 NBA Schedule | Basketball-Reference.com\n",
      "2020-21 NBA Schedule | Basketball-Reference.com\n",
      "2020-21 NBA Schedule | Basketball-Reference.com\n",
      "2020-21 NBA Schedule | Basketball-Reference.com\n",
      "2021-22 NBA Schedule | Basketball-Reference.com\n",
      "2021-22 NBA Schedule | Basketball-Reference.com\n",
      "2021-22 NBA Schedule | Basketball-Reference.com\n",
      "2021-22 NBA Schedule | Basketball-Reference.com\n",
      "2021-22 NBA Schedule | Basketball-Reference.com\n",
      "2021-22 NBA Schedule | Basketball-Reference.com\n",
      "2021-22 NBA Schedule | Basketball-Reference.com\n",
      "2021-22 NBA Schedule | Basketball-Reference.com\n",
      "2021-22 NBA Schedule | Basketball-Reference.com\n",
      "2021-22 NBA Schedule | Basketball-Reference.com\n",
      "2022-23 NBA Schedule | Basketball-Reference.com\n",
      "2022-23 NBA Schedule | Basketball-Reference.com\n",
      "2022-23 NBA Schedule | Basketball-Reference.com\n",
      "2022-23 NBA Schedule | Basketball-Reference.com\n",
      "2022-23 NBA Schedule | Basketball-Reference.com\n",
      "2022-23 NBA Schedule | Basketball-Reference.com\n",
      "2022-23 NBA Schedule | Basketball-Reference.com\n",
      "2022-23 NBA Schedule | Basketball-Reference.com\n",
      "Timeout error on https://basketball-reference.com/leagues/NBA_2023_games-may.html\n",
      "2022-23 NBA Schedule | Basketball-Reference.com\n",
      "2022-23 NBA Schedule | Basketball-Reference.com\n",
      "2023-24 NBA Schedule | Basketball-Reference.com\n",
      "2023-24 NBA Schedule | Basketball-Reference.com\n",
      "2023-24 NBA Schedule | Basketball-Reference.com\n",
      "2023-24 NBA Schedule | Basketball-Reference.com\n",
      "2023-24 NBA Schedule | Basketball-Reference.com\n",
      "2023-24 NBA Schedule | Basketball-Reference.com\n",
      "2023-24 NBA Schedule | Basketball-Reference.com\n",
      "2023-24 NBA Schedule | Basketball-Reference.com\n",
      "2023-24 NBA Schedule | Basketball-Reference.com\n",
      "2023-24 NBA Schedule | Basketball-Reference.com\n"
     ]
    }
   ],
   "source": [
    "for season in SEASONS:\n",
    "    await scrape_season(season)\n",
    "    "
   ]
  },
  {
   "cell_type": "code",
   "execution_count": 31,
   "id": "fd64f841-89c9-4a16-8340-f650ab98ad24",
   "metadata": {},
   "outputs": [],
   "source": [
    "#parsing boxscore links \n",
    "standings_files = os.listdir(STANDINGS_DIR)"
   ]
  },
  {
   "cell_type": "code",
   "execution_count": 32,
   "id": "3d96890e-f6fc-4a62-a9de-78ae6b0a7203",
   "metadata": {},
   "outputs": [
    {
     "data": {
      "text/plain": [
       "['NBA_2018_games-april.html',\n",
       " 'NBA_2018_games-december.html',\n",
       " 'NBA_2018_games-february.html',\n",
       " 'NBA_2018_games-january.html',\n",
       " 'NBA_2018_games-june.html',\n",
       " 'NBA_2018_games-march.html',\n",
       " 'NBA_2018_games-may.html',\n",
       " 'NBA_2018_games-november.html',\n",
       " 'NBA_2018_games-october.html',\n",
       " 'NBA_2019_games-april.html',\n",
       " 'NBA_2019_games-december.html',\n",
       " 'NBA_2019_games-february.html',\n",
       " 'NBA_2019_games-january.html',\n",
       " 'NBA_2019_games-june.html',\n",
       " 'NBA_2019_games-march.html',\n",
       " 'NBA_2019_games-may.html',\n",
       " 'NBA_2019_games-november.html',\n",
       " 'NBA_2019_games-october.html',\n",
       " 'NBA_2020_games-august.html',\n",
       " 'NBA_2020_games-december.html',\n",
       " 'NBA_2020_games-february.html',\n",
       " 'NBA_2020_games-january.html',\n",
       " 'NBA_2020_games-july.html',\n",
       " 'NBA_2020_games-march.html',\n",
       " 'NBA_2020_games-november.html',\n",
       " 'NBA_2020_games-october-2019.html',\n",
       " 'NBA_2020_games-october-2020.html',\n",
       " 'NBA_2020_games-september.html',\n",
       " 'NBA_2021_games-april.html',\n",
       " 'NBA_2021_games-december.html',\n",
       " 'NBA_2021_games-february.html',\n",
       " 'NBA_2021_games-january.html',\n",
       " 'NBA_2021_games-july.html',\n",
       " 'NBA_2021_games-june.html',\n",
       " 'NBA_2021_games-march.html',\n",
       " 'NBA_2021_games-may.html',\n",
       " 'NBA_2022_games-april.html',\n",
       " 'NBA_2022_games-december.html',\n",
       " 'NBA_2022_games-february.html',\n",
       " 'NBA_2022_games-january.html',\n",
       " 'NBA_2022_games-june.html',\n",
       " 'NBA_2022_games-march.html',\n",
       " 'NBA_2022_games-may.html',\n",
       " 'NBA_2022_games-november.html',\n",
       " 'NBA_2022_games-october.html',\n",
       " 'NBA_2023_games-april.html',\n",
       " 'NBA_2023_games-december.html',\n",
       " 'NBA_2023_games-february.html',\n",
       " 'NBA_2023_games-january.html',\n",
       " 'NBA_2023_games-june.html',\n",
       " 'NBA_2023_games-march.html',\n",
       " 'NBA_2023_games-may.html',\n",
       " 'NBA_2023_games-november.html',\n",
       " 'NBA_2023_games-october.html',\n",
       " 'NBA_2024_games-april.html',\n",
       " 'NBA_2024_games-december.html',\n",
       " 'NBA_2024_games-february.html',\n",
       " 'NBA_2024_games-january.html',\n",
       " 'NBA_2024_games-june.html',\n",
       " 'NBA_2024_games-march.html',\n",
       " 'NBA_2024_games-may.html',\n",
       " 'NBA_2024_games-november.html',\n",
       " 'NBA_2024_games-october.html']"
      ]
     },
     "execution_count": 32,
     "metadata": {},
     "output_type": "execute_result"
    }
   ],
   "source": [
    "standings_files"
   ]
  },
  {
   "cell_type": "code",
   "execution_count": 42,
   "id": "37095880-8179-43c0-afaa-fa53cf942205",
   "metadata": {},
   "outputs": [
    {
     "ename": "SyntaxError",
     "evalue": "incomplete input (4028772808.py, line 9)",
     "output_type": "error",
     "traceback": [
      "\u001b[1;36m  Cell \u001b[1;32mIn[42], line 9\u001b[1;36m\u001b[0m\n\u001b[1;33m    for url in box_scores:\u001b[0m\n\u001b[1;37m                          ^\u001b[0m\n\u001b[1;31mSyntaxError\u001b[0m\u001b[1;31m:\u001b[0m incomplete input\n"
     ]
    }
   ],
   "source": [
    "standings_file = os.path.join(STANDINGS_DIR, standings_files[0])\n",
    "with open(standings_file, 'r') as f:\n",
    "    html = f.read()\n",
    "soup = BeautifulSoup(html)\n",
    "links = soup.find_all(\"a\")\n",
    "hrefs = [l.get(\"href\") for l in links]\n",
    "box_scores = [l for l in hrefs if l and \"boxscore\" in l and \".html\" in l]\n",
    "box_scores = [f\"https://www.basketball-reference.com{l}\" for l in box_scores]\n",
    "for url in box_scores:"
   ]
  },
  {
   "cell_type": "code",
   "execution_count": 43,
   "id": "a5939dbe-cc26-4a52-9d0c-3ee9e28b13d5",
   "metadata": {},
   "outputs": [
    {
     "data": {
      "text/plain": [
       "['https://www.basketball-reference.com/boxscores/201804010CHO.html',\n",
       " 'https://www.basketball-reference.com/boxscores/201804010CHI.html',\n",
       " 'https://www.basketball-reference.com/boxscores/201804010LAC.html',\n",
       " 'https://www.basketball-reference.com/boxscores/201804010SAS.html',\n",
       " 'https://www.basketball-reference.com/boxscores/201804010ATL.html',\n",
       " 'https://www.basketball-reference.com/boxscores/201804010BRK.html',\n",
       " 'https://www.basketball-reference.com/boxscores/201804010CLE.html',\n",
       " 'https://www.basketball-reference.com/boxscores/201804010NOP.html',\n",
       " 'https://www.basketball-reference.com/boxscores/201804010MIN.html',\n",
       " 'https://www.basketball-reference.com/boxscores/201804010DEN.html',\n",
       " 'https://www.basketball-reference.com/boxscores/201804010GSW.html',\n",
       " 'https://www.basketball-reference.com/boxscores/201804010POR.html',\n",
       " 'https://www.basketball-reference.com/boxscores/201804010LAL.html',\n",
       " 'https://www.basketball-reference.com/boxscores/201804030CLE.html',\n",
       " 'https://www.basketball-reference.com/boxscores/201804030PHI.html',\n",
       " 'https://www.basketball-reference.com/boxscores/201804030MIA.html',\n",
       " 'https://www.basketball-reference.com/boxscores/201804030NYK.html',\n",
       " 'https://www.basketball-reference.com/boxscores/201804030CHI.html',\n",
       " 'https://www.basketball-reference.com/boxscores/201804030HOU.html',\n",
       " 'https://www.basketball-reference.com/boxscores/201804030MIL.html',\n",
       " 'https://www.basketball-reference.com/boxscores/201804030OKC.html',\n",
       " 'https://www.basketball-reference.com/boxscores/201804030DAL.html',\n",
       " 'https://www.basketball-reference.com/boxscores/201804030DEN.html',\n",
       " 'https://www.basketball-reference.com/boxscores/201804030UTA.html',\n",
       " 'https://www.basketball-reference.com/boxscores/201804030PHO.html',\n",
       " 'https://www.basketball-reference.com/boxscores/201804030LAC.html',\n",
       " 'https://www.basketball-reference.com/boxscores/201804040DET.html',\n",
       " 'https://www.basketball-reference.com/boxscores/201804040ORL.html',\n",
       " 'https://www.basketball-reference.com/boxscores/201804040ATL.html',\n",
       " 'https://www.basketball-reference.com/boxscores/201804040NOP.html',\n",
       " 'https://www.basketball-reference.com/boxscores/201804040TOR.html',\n",
       " 'https://www.basketball-reference.com/boxscores/201804040LAL.html',\n",
       " 'https://www.basketball-reference.com/boxscores/201804050IND.html',\n",
       " 'https://www.basketball-reference.com/boxscores/201804050CLE.html',\n",
       " 'https://www.basketball-reference.com/boxscores/201804050HOU.html',\n",
       " 'https://www.basketball-reference.com/boxscores/201804050MIL.html',\n",
       " 'https://www.basketball-reference.com/boxscores/201804050UTA.html',\n",
       " 'https://www.basketball-reference.com/boxscores/201804050DEN.html',\n",
       " 'https://www.basketball-reference.com/boxscores/201804060DET.html',\n",
       " 'https://www.basketball-reference.com/boxscores/201804060ORL.html',\n",
       " 'https://www.basketball-reference.com/boxscores/201804060PHI.html',\n",
       " 'https://www.basketball-reference.com/boxscores/201804060WAS.html',\n",
       " 'https://www.basketball-reference.com/boxscores/201804060BOS.html',\n",
       " 'https://www.basketball-reference.com/boxscores/201804060NYK.html',\n",
       " 'https://www.basketball-reference.com/boxscores/201804060TOR.html',\n",
       " 'https://www.basketball-reference.com/boxscores/201804060MEM.html',\n",
       " 'https://www.basketball-reference.com/boxscores/201804060PHO.html',\n",
       " 'https://www.basketball-reference.com/boxscores/201804060LAL.html',\n",
       " 'https://www.basketball-reference.com/boxscores/201804070LAC.html',\n",
       " 'https://www.basketball-reference.com/boxscores/201804070NYK.html',\n",
       " 'https://www.basketball-reference.com/boxscores/201804070CHI.html',\n",
       " 'https://www.basketball-reference.com/boxscores/201804070GSW.html',\n",
       " 'https://www.basketball-reference.com/boxscores/201804070HOU.html',\n",
       " 'https://www.basketball-reference.com/boxscores/201804070SAS.html',\n",
       " 'https://www.basketball-reference.com/boxscores/201804080BOS.html',\n",
       " 'https://www.basketball-reference.com/boxscores/201804080CHO.html',\n",
       " 'https://www.basketball-reference.com/boxscores/201804080PHI.html',\n",
       " 'https://www.basketball-reference.com/boxscores/201804080MEM.html',\n",
       " 'https://www.basketball-reference.com/boxscores/201804080LAL.html',\n",
       " 'https://www.basketball-reference.com/boxscores/201804080TOR.html',\n",
       " 'https://www.basketball-reference.com/boxscores/201804080PHO.html',\n",
       " 'https://www.basketball-reference.com/boxscores/201804090DET.html',\n",
       " 'https://www.basketball-reference.com/boxscores/201804090BRK.html',\n",
       " 'https://www.basketball-reference.com/boxscores/201804090MIA.html',\n",
       " 'https://www.basketball-reference.com/boxscores/201804090NYK.html',\n",
       " 'https://www.basketball-reference.com/boxscores/201804090MIL.html',\n",
       " 'https://www.basketball-reference.com/boxscores/201804090MIN.html',\n",
       " 'https://www.basketball-reference.com/boxscores/201804090SAS.html',\n",
       " 'https://www.basketball-reference.com/boxscores/201804090DEN.html',\n",
       " 'https://www.basketball-reference.com/boxscores/201804090LAC.html',\n",
       " 'https://www.basketball-reference.com/boxscores/201804100IND.html',\n",
       " 'https://www.basketball-reference.com/boxscores/201804100ATL.html',\n",
       " 'https://www.basketball-reference.com/boxscores/201804100WAS.html',\n",
       " 'https://www.basketball-reference.com/boxscores/201804100DAL.html',\n",
       " 'https://www.basketball-reference.com/boxscores/201804100UTA.html',\n",
       " 'https://www.basketball-reference.com/boxscores/201804100LAL.html',\n",
       " 'https://www.basketball-reference.com/boxscores/201804110BOS.html',\n",
       " 'https://www.basketball-reference.com/boxscores/201804110CHI.html',\n",
       " 'https://www.basketball-reference.com/boxscores/201804110CLE.html',\n",
       " 'https://www.basketball-reference.com/boxscores/201804110MIA.html',\n",
       " 'https://www.basketball-reference.com/boxscores/201804110MIN.html',\n",
       " 'https://www.basketball-reference.com/boxscores/201804110NOP.html',\n",
       " 'https://www.basketball-reference.com/boxscores/201804110OKC.html',\n",
       " 'https://www.basketball-reference.com/boxscores/201804110ORL.html',\n",
       " 'https://www.basketball-reference.com/boxscores/201804110PHI.html',\n",
       " 'https://www.basketball-reference.com/boxscores/201804110LAC.html',\n",
       " 'https://www.basketball-reference.com/boxscores/201804110POR.html',\n",
       " 'https://www.basketball-reference.com/boxscores/201804110SAC.html',\n",
       " 'https://www.basketball-reference.com/boxscores/201804140GSW.html',\n",
       " 'https://www.basketball-reference.com/boxscores/201804140TOR.html',\n",
       " 'https://www.basketball-reference.com/boxscores/201804140PHI.html',\n",
       " 'https://www.basketball-reference.com/boxscores/201804140POR.html',\n",
       " 'https://www.basketball-reference.com/boxscores/201804150BOS.html',\n",
       " 'https://www.basketball-reference.com/boxscores/201804150CLE.html',\n",
       " 'https://www.basketball-reference.com/boxscores/201804150OKC.html',\n",
       " 'https://www.basketball-reference.com/boxscores/201804150HOU.html',\n",
       " 'https://www.basketball-reference.com/boxscores/201804160PHI.html',\n",
       " 'https://www.basketball-reference.com/boxscores/201804160GSW.html',\n",
       " 'https://www.basketball-reference.com/boxscores/201804170TOR.html',\n",
       " 'https://www.basketball-reference.com/boxscores/201804170BOS.html',\n",
       " 'https://www.basketball-reference.com/boxscores/201804170POR.html',\n",
       " 'https://www.basketball-reference.com/boxscores/201804180CLE.html',\n",
       " 'https://www.basketball-reference.com/boxscores/201804180OKC.html',\n",
       " 'https://www.basketball-reference.com/boxscores/201804180HOU.html',\n",
       " 'https://www.basketball-reference.com/boxscores/201804190MIA.html',\n",
       " 'https://www.basketball-reference.com/boxscores/201804190NOP.html',\n",
       " 'https://www.basketball-reference.com/boxscores/201804190SAS.html',\n",
       " 'https://www.basketball-reference.com/boxscores/201804200IND.html',\n",
       " 'https://www.basketball-reference.com/boxscores/201804200WAS.html',\n",
       " 'https://www.basketball-reference.com/boxscores/201804200MIL.html',\n",
       " 'https://www.basketball-reference.com/boxscores/201804210MIA.html',\n",
       " 'https://www.basketball-reference.com/boxscores/201804210NOP.html',\n",
       " 'https://www.basketball-reference.com/boxscores/201804210MIN.html',\n",
       " 'https://www.basketball-reference.com/boxscores/201804210UTA.html',\n",
       " 'https://www.basketball-reference.com/boxscores/201804220MIL.html',\n",
       " 'https://www.basketball-reference.com/boxscores/201804220SAS.html',\n",
       " 'https://www.basketball-reference.com/boxscores/201804220WAS.html',\n",
       " 'https://www.basketball-reference.com/boxscores/201804220IND.html',\n",
       " 'https://www.basketball-reference.com/boxscores/201804230MIN.html',\n",
       " 'https://www.basketball-reference.com/boxscores/201804230UTA.html',\n",
       " 'https://www.basketball-reference.com/boxscores/201804240BOS.html',\n",
       " 'https://www.basketball-reference.com/boxscores/201804240PHI.html',\n",
       " 'https://www.basketball-reference.com/boxscores/201804240GSW.html',\n",
       " 'https://www.basketball-reference.com/boxscores/201804250CLE.html',\n",
       " 'https://www.basketball-reference.com/boxscores/201804250TOR.html',\n",
       " 'https://www.basketball-reference.com/boxscores/201804250HOU.html',\n",
       " 'https://www.basketball-reference.com/boxscores/201804250OKC.html',\n",
       " 'https://www.basketball-reference.com/boxscores/201804260MIL.html',\n",
       " 'https://www.basketball-reference.com/boxscores/201804270WAS.html',\n",
       " 'https://www.basketball-reference.com/boxscores/201804270IND.html',\n",
       " 'https://www.basketball-reference.com/boxscores/201804270UTA.html',\n",
       " 'https://www.basketball-reference.com/boxscores/201804280BOS.html',\n",
       " 'https://www.basketball-reference.com/boxscores/201804280GSW.html',\n",
       " 'https://www.basketball-reference.com/boxscores/201804290CLE.html',\n",
       " 'https://www.basketball-reference.com/boxscores/201804290HOU.html',\n",
       " 'https://www.basketball-reference.com/boxscores/201804300BOS.html']"
      ]
     },
     "execution_count": 43,
     "metadata": {},
     "output_type": "execute_result"
    }
   ],
   "source": [
    "box_scores\n"
   ]
  },
  {
   "cell_type": "code",
   "execution_count": null,
   "id": "bd699e00-b05a-4980-948e-1f4818ba00dc",
   "metadata": {},
   "outputs": [],
   "source": []
  }
 ],
 "metadata": {
  "kernelspec": {
   "display_name": "Python 3 (ipykernel)",
   "language": "python",
   "name": "python3"
  },
  "language_info": {
   "codemirror_mode": {
    "name": "ipython",
    "version": 3
   },
   "file_extension": ".py",
   "mimetype": "text/x-python",
   "name": "python",
   "nbconvert_exporter": "python",
   "pygments_lexer": "ipython3",
   "version": "3.12.4"
  }
 },
 "nbformat": 4,
 "nbformat_minor": 5
}

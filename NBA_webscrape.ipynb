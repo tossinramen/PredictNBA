{
 "cells": [
  {
   "cell_type": "code",
   "execution_count": 1,
   "id": "0c0cd2b7-3c58-45f1-ac4b-82ac42e46eed",
   "metadata": {},
   "outputs": [],
   "source": [
    "import os\n",
    "from bs4 import BeautifulSoup\n",
    "from playwright.async_api import async_playwright, TimeoutError as PlaywrightTimeout\n",
    "import time"
   ]
  },
  {
   "cell_type": "code",
   "execution_count": 2,
   "id": "c5f47d0c-5fe1-4283-99f6-c9242c4cef6a",
   "metadata": {},
   "outputs": [
    {
     "name": "stdout",
     "output_type": "stream",
     "text": [
      "Requirement already satisfied: beautifulsoup4 in c:\\users\\tahsi\\downloads\\anaconda3\\lib\\site-packages (4.12.3)\n",
      "Requirement already satisfied: soupsieve>1.2 in c:\\users\\tahsi\\downloads\\anaconda3\\lib\\site-packages (from beautifulsoup4) (2.5)\n",
      "Note: you may need to restart the kernel to use updated packages.\n"
     ]
    }
   ],
   "source": [
    "%pip install beautifulsoup4"
   ]
  },
  {
   "cell_type": "code",
   "execution_count": 3,
   "id": "6fdebd9a-745e-428c-8bb9-2326018f048a",
   "metadata": {},
   "outputs": [
    {
     "name": "stdout",
     "output_type": "stream",
     "text": [
      "Requirement already satisfied: playwright in c:\\users\\tahsi\\downloads\\anaconda3\\lib\\site-packages (1.50.0)\n",
      "Requirement already satisfied: pyee<13,>=12 in c:\\users\\tahsi\\downloads\\anaconda3\\lib\\site-packages (from playwright) (12.1.1)\n",
      "Requirement already satisfied: greenlet<4.0.0,>=3.1.1 in c:\\users\\tahsi\\downloads\\anaconda3\\lib\\site-packages (from playwright) (3.1.1)\n",
      "Requirement already satisfied: typing-extensions in c:\\users\\tahsi\\downloads\\anaconda3\\lib\\site-packages (from pyee<13,>=12->playwright) (4.12.2)\n",
      "Note: you may need to restart the kernel to use updated packages.\n"
     ]
    }
   ],
   "source": [
    "%pip install playwright"
   ]
  },
  {
   "cell_type": "code",
   "execution_count": 4,
   "id": "84ced099-08d5-4b13-a0a7-6952fd648bae",
   "metadata": {},
   "outputs": [],
   "source": [
    "!playwright install"
   ]
  },
  {
   "cell_type": "code",
   "execution_count": 5,
   "id": "48ec59d4-039b-44fb-b43f-212755bea1e3",
   "metadata": {},
   "outputs": [],
   "source": [
    "SEASONS = list(range(2021, 2026))"
   ]
  },
  {
   "cell_type": "code",
   "execution_count": 6,
   "id": "4c7a1fee-4e7a-4ccf-9abf-3af4387a9e2f",
   "metadata": {},
   "outputs": [
    {
     "data": {
      "text/plain": [
       "[2021, 2022, 2023, 2024, 2025]"
      ]
     },
     "execution_count": 6,
     "metadata": {},
     "output_type": "execute_result"
    }
   ],
   "source": [
    "SEASONS"
   ]
  },
  {
   "cell_type": "code",
   "execution_count": 7,
   "id": "f8fe1b62-70db-4f0b-9012-5ead25666512",
   "metadata": {},
   "outputs": [],
   "source": [
    "DATA_DIR = \"data\"\n",
    "STANDINGS_DIR = os.path.join(DATA_DIR, \"standings\")\n",
    "SCORES_DIR = os.path.join(DATA_DIR, \"scores\")"
   ]
  },
  {
   "cell_type": "code",
   "execution_count": 8,
   "id": "166056e5-89d0-4c45-8799-213a7981d4ab",
   "metadata": {},
   "outputs": [],
   "source": [
    "async def get_html(url, selector, sleep=5, retries=3):\n",
    "    html = None\n",
    "    for i in range(1, retries+1):\n",
    "        time.sleep(sleep * i) # so we don't get banned for trying to scrape too fast\n",
    "\n",
    "        try: \n",
    "            async with async_playwright() as p:\n",
    "                browser = await p.chromium.launch()\n",
    "                page = await browser.new_page()\n",
    "                await page.goto(url)\n",
    "                print(await page.title())\n",
    "                html = await page.inner_html(selector) #only select pieces of html\n",
    "        except PlaywrightTimeout:\n",
    "            print(f\"Timeout error on {url}\")\n",
    "            continue #goes back to beginning of loop @ for statement\n",
    "        else:\n",
    "            break #successful scrape = break the loop, not retry\n",
    "    return html\n",
    "\n",
    "\n"
   ]
  },
  {
   "cell_type": "code",
   "execution_count": 9,
   "id": "3476ab4e-7f02-4ac2-a551-6f1d692af8ad",
   "metadata": {},
   "outputs": [],
   "source": [
    "async def scrape_season(season):\n",
    "    url = f\"https://www.basketball-reference.com/leagues/NBA_{season}_games.html\"\n",
    "    html = await get_html(url, \"#content .filter\")\n",
    "\n",
    "    soup = BeautifulSoup(html)\n",
    "    links = soup.find_all(\"a\")\n",
    "    href = [l[\"href\"] for l in links]\n",
    "    standings_pages = [f\"https://basketball-reference.com{l}\" for l in href]\n",
    "\n",
    "    for url in standings_pages:\n",
    "        save_path = os.path.join(STANDINGS_DIR, url.split(\"/\")[-1])\n",
    "        if os.path.exists(save_path):\n",
    "            continue\n",
    "        html = await get_html(url, \"#all_schedule\")\n",
    "        with open(save_path, \"w+\") as f: \n",
    "            f.write(html)"
   ]
  },
  {
   "cell_type": "code",
   "execution_count": 10,
   "id": "a7d0ba7b-2ea6-4316-aa59-a0111a375ee9",
   "metadata": {},
   "outputs": [
    {
     "name": "stdout",
     "output_type": "stream",
     "text": [
      "2020-21 NBA Schedule | Basketball-Reference.com\n",
      "2021-22 NBA Schedule | Basketball-Reference.com\n",
      "2022-23 NBA Schedule | Basketball-Reference.com\n",
      "2023-24 NBA Schedule | Basketball-Reference.com\n",
      "2024-25 NBA Schedule | Basketball-Reference.com\n"
     ]
    }
   ],
   "source": [
    "for season in SEASONS:\n",
    "    await scrape_season(season)\n",
    "    "
   ]
  },
  {
   "cell_type": "code",
   "execution_count": 11,
   "id": "fd64f841-89c9-4a16-8340-f650ab98ad24",
   "metadata": {},
   "outputs": [],
   "source": [
    "#parsing boxscore links \n",
    "standings_files = os.listdir(STANDINGS_DIR)"
   ]
  },
  {
   "cell_type": "code",
   "execution_count": 12,
   "id": "3d96890e-f6fc-4a62-a9de-78ae6b0a7203",
   "metadata": {},
   "outputs": [
    {
     "data": {
      "text/plain": [
       "['NBA_2018_games-april.html',\n",
       " 'NBA_2018_games-december.html',\n",
       " 'NBA_2018_games-february.html',\n",
       " 'NBA_2018_games-january.html',\n",
       " 'NBA_2018_games-june.html',\n",
       " 'NBA_2018_games-march.html',\n",
       " 'NBA_2018_games-may.html',\n",
       " 'NBA_2018_games-november.html',\n",
       " 'NBA_2018_games-october.html',\n",
       " 'NBA_2019_games-april.html',\n",
       " 'NBA_2019_games-december.html',\n",
       " 'NBA_2019_games-february.html',\n",
       " 'NBA_2019_games-january.html',\n",
       " 'NBA_2019_games-june.html',\n",
       " 'NBA_2019_games-march.html',\n",
       " 'NBA_2019_games-may.html',\n",
       " 'NBA_2019_games-november.html',\n",
       " 'NBA_2019_games-october.html',\n",
       " 'NBA_2020_games-august.html',\n",
       " 'NBA_2020_games-december.html',\n",
       " 'NBA_2020_games-february.html',\n",
       " 'NBA_2020_games-january.html',\n",
       " 'NBA_2020_games-july.html',\n",
       " 'NBA_2020_games-march.html',\n",
       " 'NBA_2020_games-november.html',\n",
       " 'NBA_2020_games-october-2019.html',\n",
       " 'NBA_2020_games-october-2020.html',\n",
       " 'NBA_2020_games-september.html',\n",
       " 'NBA_2021_games-april.html',\n",
       " 'NBA_2021_games-december.html',\n",
       " 'NBA_2021_games-february.html',\n",
       " 'NBA_2021_games-january.html',\n",
       " 'NBA_2021_games-july.html',\n",
       " 'NBA_2021_games-june.html',\n",
       " 'NBA_2021_games-march.html',\n",
       " 'NBA_2021_games-may.html',\n",
       " 'NBA_2022_games-april.html',\n",
       " 'NBA_2022_games-december.html',\n",
       " 'NBA_2022_games-february.html',\n",
       " 'NBA_2022_games-january.html',\n",
       " 'NBA_2022_games-june.html',\n",
       " 'NBA_2022_games-march.html',\n",
       " 'NBA_2022_games-may.html',\n",
       " 'NBA_2022_games-november.html',\n",
       " 'NBA_2022_games-october.html',\n",
       " 'NBA_2023_games-april.html',\n",
       " 'NBA_2023_games-december.html',\n",
       " 'NBA_2023_games-february.html',\n",
       " 'NBA_2023_games-january.html',\n",
       " 'NBA_2023_games-june.html',\n",
       " 'NBA_2023_games-march.html',\n",
       " 'NBA_2023_games-may.html',\n",
       " 'NBA_2023_games-november.html',\n",
       " 'NBA_2023_games-october.html',\n",
       " 'NBA_2024_games-april.html',\n",
       " 'NBA_2024_games-december.html',\n",
       " 'NBA_2024_games-february.html',\n",
       " 'NBA_2024_games-january.html',\n",
       " 'NBA_2024_games-june.html',\n",
       " 'NBA_2024_games-march.html',\n",
       " 'NBA_2024_games-may.html',\n",
       " 'NBA_2024_games-november.html',\n",
       " 'NBA_2024_games-october.html',\n",
       " 'NBA_2025_games-april.html',\n",
       " 'NBA_2025_games-december.html',\n",
       " 'NBA_2025_games-february.html',\n",
       " 'NBA_2025_games-january.html',\n",
       " 'NBA_2025_games-march.html',\n",
       " 'NBA_2025_games-november.html',\n",
       " 'NBA_2025_games-october.html']"
      ]
     },
     "execution_count": 12,
     "metadata": {},
     "output_type": "execute_result"
    }
   ],
   "source": [
    "standings_files"
   ]
  },
  {
   "cell_type": "code",
   "execution_count": 13,
   "id": "37095880-8179-43c0-afaa-fa53cf942205",
   "metadata": {},
   "outputs": [],
   "source": [
    "async def scrape_game(standings_file):\n",
    "    with open(standings_file, 'r') as f:\n",
    "        html = f.read()\n",
    "    soup = BeautifulSoup(html)\n",
    "    links = soup.find_all(\"a\")\n",
    "    hrefs = [l.get(\"href\") for l in links]\n",
    "    box_scores = [l for l in hrefs if l and \"boxscore\" in l and \".html\" in l]\n",
    "    box_scores = [f\"https://www.basketball-reference.com{l}\" for l in box_scores]\n",
    "    for url in box_scores:\n",
    "        save_path = os.path.join(SCORES_DIR, url.split(\"/\")[-1])\n",
    "        if os.path.exists(save_path):\n",
    "            continue\n",
    "        html = await get_html(url, \"#content\")\n",
    "        if not html:\n",
    "            continue\n",
    "        with open(save_path, \"w+\", encoding=\"utf-8\") as f:\n",
    "            f.write(html)"
   ]
  },
  {
   "cell_type": "code",
   "execution_count": 14,
   "id": "68bab118-d6cc-4904-ad3e-8eb3b5ca0bf4",
   "metadata": {},
   "outputs": [],
   "source": [
    "standings_files = [s for s in standings_files if \".html\" in s]"
   ]
  },
  {
   "cell_type": "code",
   "execution_count": null,
   "id": "a5939dbe-cc26-4a52-9d0c-3ee9e28b13d5",
   "metadata": {},
   "outputs": [
    {
     "name": "stdout",
     "output_type": "stream",
     "text": [
      "Timeout error on https://www.basketball-reference.com/boxscores/202403170DET.html\n",
      "Timeout error on https://www.basketball-reference.com/boxscores/202403170DET.html\n",
      "Heat vs Pistons, March 17, 2024 | Basketball-Reference.com\n",
      "Grizzlies vs Lakers, November 14, 2023 | Basketball-Reference.com\n",
      "Timeout error on https://www.basketball-reference.com/boxscores/202311150WAS.html\n",
      "Mavericks vs Wizards, November 15, 2023 | Basketball-Reference.com\n",
      "Knicks vs Hawks, November 15, 2023 | Basketball-Reference.com\n",
      "Celtics vs 76ers, November 15, 2023 | Basketball-Reference.com\n",
      "Bucks vs Raptors, November 15, 2023 | Basketball-Reference.com\n",
      "Magic vs Bulls, November 15, 2023 | Basketball-Reference.com\n",
      "Timberwolves vs Suns, November 15, 2023 | Basketball-Reference.com\n",
      "Kings vs Lakers, November 15, 2023 | Basketball-Reference.com\n",
      "Cavaliers vs Trail Blazers, November 15, 2023 | Basketball-Reference.com\n",
      "Nets vs Heat, November 16, 2023 | Basketball-Reference.com\n",
      "Thunder vs Warriors, November 16, 2023 | Basketball-Reference.com\n",
      "Bucks vs Hornets, November 17, 2023 | Basketball-Reference.com\n",
      "Knicks vs Wizards, November 17, 2023 | Basketball-Reference.com\n",
      "76ers vs Hawks, November 17, 2023 | Basketball-Reference.com\n",
      "Timeout error on https://www.basketball-reference.com/boxscores/202311170CLE.html\n",
      "Pistons vs Cavaliers, November 17, 2023 | Basketball-Reference.com\n",
      "Kings vs Spurs, November 17, 2023 | Basketball-Reference.com\n",
      "Celtics vs Raptors, November 17, 2023 | Basketball-Reference.com\n",
      "Magic vs Bulls, November 17, 2023 | Basketball-Reference.com\n",
      "Timeout error on https://www.basketball-reference.com/boxscores/202311170NOP.html\n",
      "Nuggets vs Pelicans, November 17, 2023 | Basketball-Reference.com\n",
      "Timeout error on https://www.basketball-reference.com/boxscores/202311170POR.html\n",
      "Lakers vs Trail Blazers, November 17, 2023 | Basketball-Reference.com\n",
      "Suns vs Jazz, November 17, 2023 | Basketball-Reference.com\n",
      "Rockets vs Clippers, November 17, 2023 | Basketball-Reference.com\n",
      "Knicks vs Hornets, November 18, 2023 | Basketball-Reference.com\n",
      "Timberwolves vs Pelicans, November 18, 2023 | Basketball-Reference.com\n",
      "Heat vs Bulls, November 18, 2023 | Basketball-Reference.com\n",
      "Mavericks vs Bucks, November 18, 2023 | Basketball-Reference.com\n",
      "Grizzlies vs Spurs, November 18, 2023 | Basketball-Reference.com\n",
      "Thunder vs Warriors, November 18, 2023 | Basketball-Reference.com\n",
      "76ers vs Nets, November 19, 2023 | Basketball-Reference.com\n",
      "Pistons vs Raptors, November 19, 2023 | Basketball-Reference.com\n",
      "Timeout error on https://www.basketball-reference.com/boxscores/202311190IND.html\n",
      "Timeout error on https://www.basketball-reference.com/boxscores/202311190IND.html\n",
      "Magic vs Pacers, November 19, 2023 | Basketball-Reference.com\n",
      "Nuggets vs Cavaliers, November 19, 2023 | Basketball-Reference.com\n",
      "Kings vs Mavericks, November 19, 2023 | Basketball-Reference.com\n",
      "Celtics vs Grizzlies, November 19, 2023 | Basketball-Reference.com\n",
      "Suns vs Jazz, November 19, 2023 | Basketball-Reference.com\n",
      "Thunder vs Trail Blazers, November 19, 2023 | Basketball-Reference.com\n",
      "Rockets vs Lakers, November 19, 2023 | Basketball-Reference.com\n",
      "Timeout error on https://www.basketball-reference.com/boxscores/202311200CHO.html\n",
      "Timeout error on https://www.basketball-reference.com/boxscores/202311200CHO.html\n",
      "Celtics vs Hornets, November 20, 2023 | Basketball-Reference.com\n",
      "Nuggets vs Pistons, November 20, 2023 | Basketball-Reference.com\n",
      "Bucks vs Wizards, November 20, 2023 | Basketball-Reference.com\n",
      "Heat vs Bulls, November 20, 2023 | Basketball-Reference.com\n",
      "Knicks vs Timberwolves, November 20, 2023 | Basketball-Reference.com\n",
      "Kings vs Pelicans, November 20, 2023 | Basketball-Reference.com\n",
      "Timeout error on https://www.basketball-reference.com/boxscores/202311200SAS.html\n",
      "Timeout error on https://www.basketball-reference.com/boxscores/202311200SAS.html\n",
      "Timeout error on https://www.basketball-reference.com/boxscores/202311200SAS.html\n",
      "Rockets vs Warriors, November 20, 2023 | Basketball-Reference.com\n",
      "Raptors vs Magic, November 21, 2023 | Basketball-Reference.com\n",
      "Pacers vs Hawks, November 21, 2023 | Basketball-Reference.com\n",
      "Cavaliers vs 76ers, November 21, 2023 | Basketball-Reference.com\n",
      "Timeout error on https://www.basketball-reference.com/boxscores/202311210PHO.html\n",
      "Trail Blazers vs Suns, November 21, 2023 | Basketball-Reference.com\n",
      "Timeout error on https://www.basketball-reference.com/boxscores/202311210LAL.html\n",
      "Jazz vs Lakers, November 21, 2023 | Basketball-Reference.com\n",
      "Wizards vs Hornets, November 22, 2023 | Basketball-Reference.com\n",
      "Timeout error on https://www.basketball-reference.com/boxscores/202311220ORL.html\n",
      "Nuggets vs Magic, November 22, 2023 | Basketball-Reference.com\n",
      "Nets vs Hawks, November 22, 2023 | Basketball-Reference.com\n",
      "Timeout error on https://www.basketball-reference.com/boxscores/202311220BOS.html\n",
      "Timeout error on https://www.basketball-reference.com/boxscores/202311220BOS.html\n",
      "Timeout error on https://www.basketball-reference.com/boxscores/202311220BOS.html\n",
      "Timeout error on https://www.basketball-reference.com/boxscores/202311220CLE.html\n",
      "Heat vs Cavaliers, November 22, 2023 | Basketball-Reference.com\n",
      "Timeout error on https://www.basketball-reference.com/boxscores/202311220IND.html\n",
      "Raptors vs Pacers, November 22, 2023 | Basketball-Reference.com\n",
      "Grizzlies vs Rockets, November 22, 2023 | Basketball-Reference.com\n",
      "Timeout error on https://www.basketball-reference.com/boxscores/202311220MIN.html\n",
      "76ers vs Timberwolves, November 22, 2023 | Basketball-Reference.com\n",
      "Kings vs Pelicans, November 22, 2023 | Basketball-Reference.com\n",
      "Bulls vs Thunder, November 22, 2023 | Basketball-Reference.com\n",
      "Clippers vs Spurs, November 22, 2023 | Basketball-Reference.com\n",
      "Warriors vs Suns, November 22, 2023 | Basketball-Reference.com\n",
      "Jazz vs Trail Blazers, November 22, 2023 | Basketball-Reference.com\n",
      "Mavericks vs Lakers, November 22, 2023 | Basketball-Reference.com\n",
      "Celtics vs Magic, November 24, 2023 | Basketball-Reference.com\n",
      "Timeout error on https://www.basketball-reference.com/boxscores/202311240MEM.html\n",
      "Timeout error on https://www.basketball-reference.com/boxscores/202311240MEM.html\n",
      "Timeout error on https://www.basketball-reference.com/boxscores/202311240MEM.html\n",
      "Heat vs Knicks, November 24, 2023 | Basketball-Reference.com\n",
      "Bulls vs Raptors, November 24, 2023 | Basketball-Reference.com\n",
      "Nuggets vs Rockets, November 24, 2023 | Basketball-Reference.com\n",
      "Timeout error on https://www.basketball-reference.com/boxscores/202311240IND.html\n",
      "Pistons vs Pacers, November 24, 2023 | Basketball-Reference.com\n",
      "Wizards vs Bucks, November 24, 2023 | Basketball-Reference.com\n",
      "Timeout error on https://www.basketball-reference.com/boxscores/202311240MIN.html\n",
      "Kings vs Timberwolves, November 24, 2023 | Basketball-Reference.com\n",
      "Spurs vs Warriors, November 24, 2023 | Basketball-Reference.com\n",
      "Pelicans vs Clippers, November 24, 2023 | Basketball-Reference.com\n",
      "Timeout error on https://www.basketball-reference.com/boxscores/202311250OKC.html\n",
      "Timeout error on https://www.basketball-reference.com/boxscores/202311250OKC.html\n",
      "Timeout error on https://www.basketball-reference.com/boxscores/202311250OKC.html\n",
      "Heat vs Nets, November 25, 2023 | Basketball-Reference.com\n",
      "Hawks vs Wizards, November 25, 2023 | Basketball-Reference.com\n",
      "Timeout error on https://www.basketball-reference.com/boxscores/202311250CLE.html\n",
      "Lakers vs Cavaliers, November 25, 2023 | Basketball-Reference.com\n",
      "Timeout error on https://www.basketball-reference.com/boxscores/202311250UTA.html\n",
      "Timeout error on https://www.basketball-reference.com/boxscores/202311250UTA.html\n",
      "Pelicans vs Jazz, November 25, 2023 | Basketball-Reference.com\n",
      "Mavericks vs Clippers, November 25, 2023 | Basketball-Reference.com\n",
      "Timeout error on https://www.basketball-reference.com/boxscores/202311260MIL.html\n",
      "Timeout error on https://www.basketball-reference.com/boxscores/202311260MIL.html\n",
      "Trail Blazers vs Bucks, November 26, 2023 | Basketball-Reference.com\n",
      "Hawks vs Celtics, November 26, 2023 | Basketball-Reference.com\n",
      "Timeout error on https://www.basketball-reference.com/boxscores/202311260MEM.html\n",
      "Timeout error on https://www.basketball-reference.com/boxscores/202311260MEM.html\n",
      "Timberwolves vs Grizzlies, November 26, 2023 | Basketball-Reference.com\n",
      "Suns vs Knicks, November 26, 2023 | Basketball-Reference.com\n",
      "Timeout error on https://www.basketball-reference.com/boxscores/202311260ORL.html\n",
      "Timeout error on https://www.basketball-reference.com/boxscores/202311260ORL.html\n",
      "Hornets vs Magic, November 26, 2023 | Basketball-Reference.com\n",
      "Timeout error on https://www.basketball-reference.com/boxscores/202311260BRK.html\n",
      "Bulls vs Nets, November 26, 2023 | Basketball-Reference.com\n"
     ]
    }
   ],
   "source": [
    "\n",
    "for f in standings_files:\n",
    "    filepath = os.path.join(STANDINGS_DIR, f)\n",
    "    await scrape_game(filepath)\n"
   ]
  },
  {
   "cell_type": "code",
   "execution_count": null,
   "id": "df4c2044-f456-436e-91df-48d16e63ee56",
   "metadata": {},
   "outputs": [],
   "source": []
  }
 ],
 "metadata": {
  "kernelspec": {
   "display_name": "Python 3 (ipykernel)",
   "language": "python",
   "name": "python3"
  },
  "language_info": {
   "codemirror_mode": {
    "name": "ipython",
    "version": 3
   },
   "file_extension": ".py",
   "mimetype": "text/x-python",
   "name": "python",
   "nbconvert_exporter": "python",
   "pygments_lexer": "ipython3",
   "version": "3.12.4"
  }
 },
 "nbformat": 4,
 "nbformat_minor": 5
}
